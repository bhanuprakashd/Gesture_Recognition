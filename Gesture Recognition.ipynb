{
 "cells": [
  {
   "cell_type": "markdown",
   "metadata": {},
   "source": [
    "# Gesture Recognition\n",
    "In this group project, you are going to build a 3D Conv model that will be able to predict the 5 gestures correctly. Please import the following libraries to get started."
   ]
  },
  {
   "cell_type": "code",
   "execution_count": 27,
   "metadata": {},
   "outputs": [],
   "source": [
    "import numpy as np\n",
    "import os\n",
    "import cv2\n",
    "from cv2 import imread\n",
    "import matplotlib.pyplot as plt\n",
    "from skimage.transform import resize as imresize\n",
    "import datetime\n",
    "import os\n",
    "import abc"
   ]
  },
  {
   "cell_type": "markdown",
   "metadata": {},
   "source": [
    "We set the random seed so that the results don't vary drastically."
   ]
  },
  {
   "cell_type": "code",
   "execution_count": 28,
   "metadata": {},
   "outputs": [],
   "source": [
    "np.random.seed(30)\n",
    "import random as rn\n",
    "rn.seed(30)\n",
    "from tensorflow.keras import backend as K\n",
    "import tensorflow as tf\n",
    "tf.random.set_seed(30)"
   ]
  },
  {
   "cell_type": "code",
   "execution_count": 29,
   "metadata": {},
   "outputs": [
    {
     "name": "stdout",
     "output_type": "stream",
     "text": [
      "Found GPU at: /device:GPU:0\n"
     ]
    }
   ],
   "source": [
    "device_name = tf.test.gpu_device_name()\n",
    "if \"GPU\" not in device_name:\n",
    "    print(\"GPU device not found\")\n",
    "else:\n",
    "    print('Found GPU at: {}'.format(device_name))"
   ]
  },
  {
   "cell_type": "code",
   "execution_count": 30,
   "metadata": {},
   "outputs": [
    {
     "name": "stdout",
     "output_type": "stream",
     "text": [
      "Sun Jul 10 10:01:30 2022       \n",
      "+-----------------------------------------------------------------------------+\n",
      "| NVIDIA-SMI 512.95       Driver Version: 512.95       CUDA Version: 11.6     |\n",
      "|-------------------------------+----------------------+----------------------+\n",
      "| GPU  Name            TCC/WDDM | Bus-Id        Disp.A | Volatile Uncorr. ECC |\n",
      "| Fan  Temp  Perf  Pwr:Usage/Cap|         Memory-Usage | GPU-Util  Compute M. |\n",
      "|                               |                      |               MIG M. |\n",
      "|===============================+======================+======================|\n",
      "|   0  NVIDIA GeForce ... WDDM  | 00000000:07:00.0  On |                  N/A |\n",
      "| 51%   39C    P2   102W / 370W |   1757MiB / 10240MiB |      0%      Default |\n",
      "|                               |                      |                  N/A |\n",
      "+-------------------------------+----------------------+----------------------+\n",
      "                                                                               \n",
      "+-----------------------------------------------------------------------------+\n",
      "| Processes:                                                                  |\n",
      "|  GPU   GI   CI        PID   Type   Process name                  GPU Memory |\n",
      "|        ID   ID                                                   Usage      |\n",
      "|=============================================================================|\n",
      "|    0   N/A  N/A      2196    C+G   ...h2txyewy\\FESearchHost.exe    N/A      |\n",
      "|    0   N/A  N/A      4228    C+G   ...2txyewy\\TextInputHost.exe    N/A      |\n",
      "|    0   N/A  N/A      9408    C+G   ...artMenuExperienceHost.exe    N/A      |\n",
      "|    0   N/A  N/A      9448      C   ...nvs\\tensorflow\\python.exe    N/A      |\n",
      "|    0   N/A  N/A     12192    C+G   ...zilla Firefox\\firefox.exe    N/A      |\n",
      "|    0   N/A  N/A     12980    C+G   ...264.49\\msedgewebview2.exe    N/A      |\n",
      "|    0   N/A  N/A     13308    C+G   ...txyewy\\MiniSearchHost.exe    N/A      |\n",
      "|    0   N/A  N/A     13324    C+G   ...perience\\NVIDIA Share.exe    N/A      |\n",
      "|    0   N/A  N/A     13468    C+G   ...8bbwe\\WindowsTerminal.exe    N/A      |\n",
      "|    0   N/A  N/A     14824    C+G   ...t\\Teams\\current\\Teams.exe    N/A      |\n",
      "|    0   N/A  N/A     16692    C+G   ...8wekyb3d8bbwe\\Cortana.exe    N/A      |\n",
      "|    0   N/A  N/A     17460    C+G   ...zilla Firefox\\firefox.exe    N/A      |\n",
      "|    0   N/A  N/A     18240    C+G   ...qxf38zg5c\\Skype\\Skype.exe    N/A      |\n",
      "|    0   N/A  N/A     18308    C+G   ...ge\\Application\\msedge.exe    N/A      |\n",
      "|    0   N/A  N/A     18484    C+G   C:\\Windows\\explorer.exe         N/A      |\n",
      "|    0   N/A  N/A     18512    C+G   ...t\\Teams\\current\\Teams.exe    N/A      |\n",
      "|    0   N/A  N/A     19744    C+G   ...root\\Office16\\WINWORD.EXE    N/A      |\n",
      "|    0   N/A  N/A     20760    C+G   ...root\\Office16\\WINWORD.EXE    N/A      |\n",
      "|    0   N/A  N/A     20776    C+G   ...qxf38zg5c\\Skype\\Skype.exe    N/A      |\n",
      "|    0   N/A  N/A     21392    C+G   ...lPanel\\SystemSettings.exe    N/A      |\n",
      "|    0   N/A  N/A     22404    C+G   ...n1h2txyewy\\SearchHost.exe    N/A      |\n",
      "+-----------------------------------------------------------------------------+\n"
     ]
    }
   ],
   "source": [
    "!nvidia-smi"
   ]
  },
  {
   "cell_type": "markdown",
   "metadata": {},
   "source": [
    "In this block, you read the folder names for training and validation. You also set the `batch_size` here. Note that you set the batch size in such a way that you are able to use the GPU in full capacity. You keep increasing the batch size until the machine throws an error."
   ]
  },
  {
   "cell_type": "code",
   "execution_count": 31,
   "metadata": {},
   "outputs": [],
   "source": [
    "train_doc = np.random.permutation(open('Project_data/train.csv').readlines())\n",
    "val_doc = np.random.permutation(open('Project_data/val.csv').readlines())\n",
    "batch_size = 32"
   ]
  },
  {
   "cell_type": "markdown",
   "metadata": {},
   "source": [
    "## Generator\n",
    "This is one of the most important part of the code. The overall structure of the generator has been given. In the generator, you are going to preprocess the images as you have images of 2 different dimensions as well as create a batch of video frames. You have to experiment with `img_idx`, `y`,`z` and normalization such that you get high accuracy."
   ]
  },
  {
   "cell_type": "code",
   "execution_count": 32,
   "metadata": {},
   "outputs": [],
   "source": [
    "class ModelBuilder(metaclass= abc.ABCMeta):\n",
    "    # Set directory paths\n",
    "    def set_path(self,project_folder):\n",
    "        self.train_doc = np.random.permutation(open(project_folder + '/' + 'train.csv').readlines())\n",
    "        self.val_doc = np.random.permutation(open(project_folder + '/' + 'val.csv').readlines())\n",
    "        self.train_path = project_folder + '/' + 'train'\n",
    "        self.val_path =  project_folder + '/' + 'val'\n",
    "        self.num_train_sequences = len(self.train_doc)\n",
    "        self.num_val_sequences = len(self.val_doc)\n",
    "    # Set the image properties    \n",
    "    def set_image_properties(self,image_height=128,image_width=128):\n",
    "        self.image_height=image_height\n",
    "        self.image_width=image_width\n",
    "        self.channels=3\n",
    "        self.num_classes=5\n",
    "        self.total_frames=30\n",
    "    # initialising the batch size, frames to sample and the no. of epochs\n",
    "    def set_hyperparams(self,frames_to_sample=30,batch_size=20,num_epochs=20):\n",
    "        self.frames_to_sample=frames_to_sample\n",
    "        self.batch_size=batch_size\n",
    "        self.num_epochs=num_epochs\n",
    "        \n",
    "    # MOST IMPORTANT PART HERE - The generator function        \n",
    "    def generator(self,source_path, folder_list, augment=False):\n",
    "        img_idx = np.round(np.linspace(0,self.total_frames-1,self.frames_to_sample)).astype(int)\n",
    "        batch_size=self.batch_size\n",
    "        while True:\n",
    "            t = np.random.permutation(folder_list)\n",
    "            num_batches = len(t)//batch_size\n",
    "        \n",
    "            for batch in range(num_batches): \n",
    "                batch_data, batch_labels= self.one_batch_data(source_path,t,batch,batch_size,img_idx,augment)\n",
    "                yield batch_data, batch_labels \n",
    "\n",
    "            remaining_seq=len(t)%batch_size\n",
    "        \n",
    "            if (remaining_seq != 0):\n",
    "                batch_data, batch_labels= self.one_batch_data(source_path,t,num_batches,batch_size,img_idx,augment,remaining_seq)\n",
    "                yield batch_data, batch_labels \n",
    "    \n",
    "    \n",
    "    def one_batch_data(self,source_path,t,batch,batch_size,img_idx,augment,remaining_seq=0):\n",
    "    \n",
    "        seq_len = remaining_seq if remaining_seq else batch_size\n",
    "    \n",
    "        batch_data = np.zeros((seq_len,len(img_idx),self.image_height,self.image_width,self.channels)) \n",
    "        batch_labels = np.zeros((seq_len,self.num_classes)) \n",
    "    \n",
    "        if (augment): batch_data_aug = np.zeros((seq_len,len(img_idx),self.image_height,self.image_width,self.channels))\n",
    "\n",
    "        \n",
    "        for folder in range(seq_len): \n",
    "            imgs = os.listdir(source_path+'/'+ t[folder + (batch*batch_size)].split(';')[0]) \n",
    "            for idx,item in enumerate(img_idx):\n",
    "                #performing image reading and resizing\n",
    "                image = imread(source_path+'/'+ t[folder + (batch*batch_size)].strip().split(';')[0]+'/'+imgs[item]).astype(np.float32)\n",
    "                image_resized=imresize(image,(self.image_height,self.image_width,3))\n",
    "            \n",
    "                #normalizing the images\n",
    "                batch_data[folder,idx,:,:,0] = (image_resized[:,:,0])/255\n",
    "                batch_data[folder,idx,:,:,1] = (image_resized[:,:,1])/255\n",
    "                batch_data[folder,idx,:,:,2] = (image_resized[:,:,2])/255\n",
    "            \n",
    "                if (augment):\n",
    "                    shifted = cv2.warpAffine(image, \n",
    "                                             np.float32([[1, 0, np.random.randint(-30,30)],[0, 1, np.random.randint(-30,30)]]), \n",
    "                                            (image.shape[1], image.shape[0]))\n",
    "                    \n",
    "                    gray = cv2.cvtColor(shifted,cv2.COLOR_BGR2GRAY)\n",
    "\n",
    "                    x0, y0 = np.argwhere(gray > 0).min(axis=0)\n",
    "                    x1, y1 = np.argwhere(gray > 0).max(axis=0) \n",
    "                    # cropping the images to have the targeted gestures and remove the noise from the images.\n",
    "                    cropped=shifted[x0:x1,y0:y1,:]\n",
    "                    #Resize\n",
    "                    image_resized=imresize(cropped,(self.image_height,self.image_width,3))\n",
    "                    \n",
    "            \n",
    "                    batch_data_aug[folder,idx,:,:,0] = (image_resized[:,:,0])/255\n",
    "                    batch_data_aug[folder,idx,:,:,1] = (image_resized[:,:,1])/255\n",
    "                    batch_data_aug[folder,idx,:,:,2] = (image_resized[:,:,2])/255\n",
    "                \n",
    "            \n",
    "            batch_labels[folder, int(t[folder + (batch*batch_size)].strip().split(';')[2])] = 1\n",
    "            \n",
    "    \n",
    "        if (augment):\n",
    "            batch_data=np.concatenate([batch_data,batch_data_aug])\n",
    "            batch_labels=np.concatenate([batch_labels,batch_labels])\n",
    "\n",
    "        \n",
    "        return(batch_data,batch_labels)\n",
    "    \n",
    "    \n",
    "    def train_model(self, model, augment_data=False):\n",
    "        train_generator = self.generator(self.train_path, self.train_doc,augment=augment_data)\n",
    "        val_generator = self.generator(self.val_path, self.val_doc)\n",
    "\n",
    "        model_name = 'model_init' + '_' + str(datetime.datetime.now()).replace(' ','').replace(':','_') + '/'\n",
    "    \n",
    "        if not os.path.exists(model_name):\n",
    "            os.mkdir(model_name)\n",
    "        \n",
    "        filepath = model_name + 'model-{epoch:05d}-{loss:.5f}-{categorical_accuracy:.5f}-{val_loss:.5f}-{val_categorical_accuracy:.5f}.h5'\n",
    "\n",
    "        checkpoint = ModelCheckpoint(filepath, monitor='val_loss', verbose=1, save_best_only=True, save_weights_only=False, mode='auto', period=1)\n",
    "        LR = ReduceLROnPlateau(monitor='val_loss', factor=0.2, verbose=1, patience=4)\n",
    "        \n",
    "        earlystop = EarlyStopping( monitor=\"val_loss\", min_delta=0,patience=10,verbose=1)\n",
    "        callbacks_list = [checkpoint, LR, earlystop]\n",
    "\n",
    "        if (self.num_train_sequences%self.batch_size) == 0:\n",
    "            steps_per_epoch = int(self.num_train_sequences/self.batch_size)\n",
    "        else:\n",
    "            steps_per_epoch = (self.num_train_sequences//self.batch_size) + 1\n",
    "\n",
    "        if (self.num_val_sequences%self.batch_size) == 0:\n",
    "            validation_steps = int(self.num_val_sequences/self.batch_size)\n",
    "        else:\n",
    "            validation_steps = (self.num_val_sequences//self.batch_size) + 1\n",
    "    \n",
    "        history=model.fit_generator(train_generator, steps_per_epoch=steps_per_epoch, epochs=self.num_epochs, verbose=1, \n",
    "                            callbacks=callbacks_list, validation_data=val_generator, \n",
    "                            validation_steps=validation_steps, class_weight=None, workers=1, initial_epoch=0)\n",
    "        return history\n",
    "\n",
    "        \n",
    "    @abc.abstractmethod\n",
    "    def define_model(self):\n",
    "        pass"
   ]
  },
  {
   "cell_type": "markdown",
   "metadata": {},
   "source": [
    "Note here that a video is represented above in the generator as (number of images, height, width, number of channels). Take this into consideration while creating the model architecture."
   ]
  },
  {
   "cell_type": "code",
   "execution_count": 33,
   "metadata": {},
   "outputs": [
    {
     "name": "stdout",
     "output_type": "stream",
     "text": [
      "# training sequences = 663\n",
      "# validation sequences = 100\n",
      "# epochs = 20\n"
     ]
    }
   ],
   "source": [
    "curr_dt_time = datetime.datetime.now()\n",
    "train_path = 'Project_data/train'\n",
    "val_path = 'Project_data/val'\n",
    "project_folder='Project_data'\n",
    "num_train_sequences = len(train_doc)\n",
    "print('# training sequences =', num_train_sequences)\n",
    "num_val_sequences = len(val_doc)\n",
    "print('# validation sequences =', num_val_sequences)\n",
    "num_epochs = 20 # choose the number of epochs\n",
    "print ('# epochs =', num_epochs)"
   ]
  },
  {
   "cell_type": "markdown",
   "metadata": {},
   "source": [
    "## Model\n",
    "Here you make the model using different functionalities that Keras provides. Remember to use `Conv3D` and `MaxPooling3D` and not `Conv2D` and `Maxpooling2D` for a 3D convolution model. You would want to use `TimeDistributed` while building a Conv2D + RNN model. Also remember that the last layer is the softmax. Design the network in such a way that the model is able to give good accuracy on the least number of parameters so that it can fit in the memory of the webcam."
   ]
  },
  {
   "cell_type": "code",
   "execution_count": 34,
   "metadata": {},
   "outputs": [],
   "source": [
    "from keras.models import Sequential, Model\n",
    "from keras.layers import Dense, GRU, Flatten, TimeDistributed, Flatten, BatchNormalization, Activation, LSTM\n",
    "from keras.layers.convolutional import Conv2D,MaxPooling2D,Conv3D, MaxPooling3D \n",
    "from keras.callbacks import ModelCheckpoint, ReduceLROnPlateau, EarlyStopping\n",
    "from keras import optimizers\n",
    "from keras.layers import Dropout"
   ]
  },
  {
   "cell_type": "markdown",
   "metadata": {},
   "source": [
    "# Model-1 Conv3D"
   ]
  },
  {
   "cell_type": "code",
   "execution_count": 9,
   "metadata": {},
   "outputs": [],
   "source": [
    "class Conv3D_Model1(ModelBuilder):\n",
    "    \n",
    "    def define_model(self):\n",
    "\n",
    "        model = Sequential()\n",
    "        model.add(Conv3D(16, (3, 3, 3), padding='same',\n",
    "                 input_shape=(self.frames_to_sample,self.image_height,self.image_width,self.channels)))\n",
    "        model.add(Activation('relu'))\n",
    "        model.add(BatchNormalization())\n",
    "        model.add(MaxPooling3D(pool_size=(2, 2, 2)))\n",
    "\n",
    "        model.add(Conv3D(32, (2, 2, 2), padding='same'))\n",
    "        model.add(Activation('relu'))\n",
    "        model.add(BatchNormalization())\n",
    "        model.add(MaxPooling3D(pool_size=(2, 2, 2)))\n",
    "\n",
    "        model.add(Conv3D(64, (2, 2, 2), padding='same'))\n",
    "        model.add(Activation('relu'))\n",
    "        model.add(BatchNormalization())\n",
    "        model.add(MaxPooling3D(pool_size=(2, 2, 2)))\n",
    "\n",
    "        model.add(Conv3D(128, (2, 2, 2), padding='same'))\n",
    "        model.add(Activation('relu'))\n",
    "        model.add(BatchNormalization())\n",
    "        model.add(MaxPooling3D(pool_size=(2, 2, 2)))\n",
    "\n",
    "        model.add(Flatten())\n",
    "        model.add(Dense(128,activation='relu'))\n",
    "        model.add(BatchNormalization())\n",
    "        model.add(Dropout(0.5))\n",
    "\n",
    "        model.add(Dense(64,activation='relu'))\n",
    "        model.add(BatchNormalization())\n",
    "        model.add(Dropout(0.25))\n",
    "\n",
    "\n",
    "        model.add(Dense(self.num_classes,activation='softmax'))\n",
    "\n",
    "        optimiser = optimizers.Adam()\n",
    "        model.compile(optimizer=optimiser, loss='categorical_crossentropy', metrics=['categorical_accuracy'])\n",
    "        return model"
   ]
  },
  {
   "cell_type": "code",
   "execution_count": 10,
   "metadata": {},
   "outputs": [
    {
     "name": "stdout",
     "output_type": "stream",
     "text": [
      "Model: \"sequential\"\n",
      "_________________________________________________________________\n",
      " Layer (type)                Output Shape              Param #   \n",
      "=================================================================\n",
      " conv3d (Conv3D)             (None, 30, 128, 128, 16)  1312      \n",
      "                                                                 \n",
      " activation (Activation)     (None, 30, 128, 128, 16)  0         \n",
      "                                                                 \n",
      " batch_normalization (BatchN  (None, 30, 128, 128, 16)  64       \n",
      " ormalization)                                                   \n",
      "                                                                 \n",
      " max_pooling3d (MaxPooling3D  (None, 15, 64, 64, 16)   0         \n",
      " )                                                               \n",
      "                                                                 \n",
      " conv3d_1 (Conv3D)           (None, 15, 64, 64, 32)    4128      \n",
      "                                                                 \n",
      " activation_1 (Activation)   (None, 15, 64, 64, 32)    0         \n",
      "                                                                 \n",
      " batch_normalization_1 (Batc  (None, 15, 64, 64, 32)   128       \n",
      " hNormalization)                                                 \n",
      "                                                                 \n",
      " max_pooling3d_1 (MaxPooling  (None, 7, 32, 32, 32)    0         \n",
      " 3D)                                                             \n",
      "                                                                 \n",
      " conv3d_2 (Conv3D)           (None, 7, 32, 32, 64)     16448     \n",
      "                                                                 \n",
      " activation_2 (Activation)   (None, 7, 32, 32, 64)     0         \n",
      "                                                                 \n",
      " batch_normalization_2 (Batc  (None, 7, 32, 32, 64)    256       \n",
      " hNormalization)                                                 \n",
      "                                                                 \n",
      " max_pooling3d_2 (MaxPooling  (None, 3, 16, 16, 64)    0         \n",
      " 3D)                                                             \n",
      "                                                                 \n",
      " conv3d_3 (Conv3D)           (None, 3, 16, 16, 128)    65664     \n",
      "                                                                 \n",
      " activation_3 (Activation)   (None, 3, 16, 16, 128)    0         \n",
      "                                                                 \n",
      " batch_normalization_3 (Batc  (None, 3, 16, 16, 128)   512       \n",
      " hNormalization)                                                 \n",
      "                                                                 \n",
      " max_pooling3d_3 (MaxPooling  (None, 1, 8, 8, 128)     0         \n",
      " 3D)                                                             \n",
      "                                                                 \n",
      " flatten (Flatten)           (None, 8192)              0         \n",
      "                                                                 \n",
      " dense (Dense)               (None, 128)               1048704   \n",
      "                                                                 \n",
      " batch_normalization_4 (Batc  (None, 128)              512       \n",
      " hNormalization)                                                 \n",
      "                                                                 \n",
      " dropout (Dropout)           (None, 128)               0         \n",
      "                                                                 \n",
      " dense_1 (Dense)             (None, 64)                8256      \n",
      "                                                                 \n",
      " batch_normalization_5 (Batc  (None, 64)               256       \n",
      " hNormalization)                                                 \n",
      "                                                                 \n",
      " dropout_1 (Dropout)         (None, 64)                0         \n",
      "                                                                 \n",
      " dense_2 (Dense)             (None, 5)                 325       \n",
      "                                                                 \n",
      "=================================================================\n",
      "Total params: 1,146,565\n",
      "Trainable params: 1,145,701\n",
      "Non-trainable params: 864\n",
      "_________________________________________________________________\n"
     ]
    }
   ],
   "source": [
    "conv_3d1=Conv3D_Model1()\n",
    "conv_3d1.set_path(project_folder)\n",
    "conv_3d1.set_image_properties(image_height=128,image_width=128)\n",
    "conv_3d1.set_hyperparams(frames_to_sample=30,batch_size=20,num_epochs=10)\n",
    "conv_3d1_model=conv_3d1.define_model()\n",
    "conv_3d1_model.summary()"
   ]
  },
  {
   "cell_type": "code",
   "execution_count": 11,
   "metadata": {},
   "outputs": [
    {
     "name": "stdout",
     "output_type": "stream",
     "text": [
      "WARNING:tensorflow:`period` argument is deprecated. Please use `save_freq` to specify the frequency in number of batches seen.\n"
     ]
    },
    {
     "name": "stderr",
     "output_type": "stream",
     "text": [
      "C:\\Users\\Bhanu prakash\\AppData\\Local\\Temp\\ipykernel_23868\\672519330.py:125: UserWarning: `Model.fit_generator` is deprecated and will be removed in a future version. Please use `Model.fit`, which supports generators.\n",
      "  history=model.fit_generator(train_generator, steps_per_epoch=steps_per_epoch, epochs=self.num_epochs, verbose=1,\n"
     ]
    },
    {
     "name": "stdout",
     "output_type": "stream",
     "text": [
      "Epoch 1/10\n",
      "34/34 [==============================] - ETA: 0s - loss: 1.4783 - categorical_accuracy: 0.4178\n",
      "Epoch 1: val_loss improved from inf to 3.26110, saving model to model_init_2022-07-0709_16_45.193364\\model-00001-1.47828-0.41780-3.26110-0.21000.h5\n",
      "34/34 [==============================] - 136s 4s/step - loss: 1.4783 - categorical_accuracy: 0.4178 - val_loss: 3.2611 - val_categorical_accuracy: 0.2100 - lr: 0.0010\n",
      "Epoch 2/10\n",
      "34/34 [==============================] - ETA: 0s - loss: 0.8813 - categorical_accuracy: 0.6516\n",
      "Epoch 2: val_loss did not improve from 3.26110\n",
      "34/34 [==============================] - 110s 3s/step - loss: 0.8813 - categorical_accuracy: 0.6516 - val_loss: 5.0372 - val_categorical_accuracy: 0.1700 - lr: 0.0010\n",
      "Epoch 3/10\n",
      "34/34 [==============================] - ETA: 0s - loss: 0.5601 - categorical_accuracy: 0.8069\n",
      "Epoch 3: val_loss did not improve from 3.26110\n",
      "34/34 [==============================] - 108s 3s/step - loss: 0.5601 - categorical_accuracy: 0.8069 - val_loss: 7.3068 - val_categorical_accuracy: 0.1300 - lr: 0.0010\n",
      "Epoch 4/10\n",
      "33/34 [============================>.] - ETA: 2s - loss: 0.4884 - categorical_accuracy: 0.8152\n",
      "Epoch 4: val_loss did not improve from 3.26110\n",
      "34/34 [==============================] - 109s 3s/step - loss: 0.4960 - categorical_accuracy: 0.8130 - val_loss: 6.3693 - val_categorical_accuracy: 0.1700 - lr: 0.0010\n",
      "Epoch 5/10\n",
      "33/34 [============================>.] - ETA: 2s - loss: 0.4324 - categorical_accuracy: 0.8394\n",
      "Epoch 5: val_loss did not improve from 3.26110\n",
      "\n",
      "Epoch 5: ReduceLROnPlateau reducing learning rate to 0.00020000000949949026.\n",
      "34/34 [==============================] - 112s 3s/step - loss: 0.4317 - categorical_accuracy: 0.8401 - val_loss: 7.5965 - val_categorical_accuracy: 0.1600 - lr: 0.0010\n",
      "Epoch 6/10\n",
      "34/34 [==============================] - ETA: 0s - loss: 0.3017 - categorical_accuracy: 0.9035\n",
      "Epoch 6: val_loss did not improve from 3.26110\n",
      "34/34 [==============================] - 115s 3s/step - loss: 0.3017 - categorical_accuracy: 0.9035 - val_loss: 6.5346 - val_categorical_accuracy: 0.1600 - lr: 2.0000e-04\n",
      "Epoch 7/10\n",
      "33/34 [============================>.] - ETA: 2s - loss: 0.2510 - categorical_accuracy: 0.9303\n",
      "Epoch 7: val_loss did not improve from 3.26110\n",
      "34/34 [==============================] - 114s 3s/step - loss: 0.2527 - categorical_accuracy: 0.9276 - val_loss: 6.0857 - val_categorical_accuracy: 0.1500 - lr: 2.0000e-04\n",
      "Epoch 8/10\n",
      "34/34 [==============================] - ETA: 0s - loss: 0.2793 - categorical_accuracy: 0.9080\n",
      "Epoch 8: val_loss did not improve from 3.26110\n",
      "34/34 [==============================] - 114s 3s/step - loss: 0.2793 - categorical_accuracy: 0.9080 - val_loss: 5.2086 - val_categorical_accuracy: 0.2600 - lr: 2.0000e-04\n",
      "Epoch 9/10\n",
      "33/34 [============================>.] - ETA: 2s - loss: 0.2145 - categorical_accuracy: 0.9424\n",
      "Epoch 9: val_loss did not improve from 3.26110\n",
      "\n",
      "Epoch 9: ReduceLROnPlateau reducing learning rate to 4.0000001899898055e-05.\n",
      "34/34 [==============================] - 113s 3s/step - loss: 0.2144 - categorical_accuracy: 0.9427 - val_loss: 4.5717 - val_categorical_accuracy: 0.2700 - lr: 2.0000e-04\n",
      "Epoch 10/10\n",
      "34/34 [==============================] - ETA: 0s - loss: 0.1813 - categorical_accuracy: 0.9532\n",
      "Epoch 10: val_loss did not improve from 3.26110\n",
      "34/34 [==============================] - 112s 3s/step - loss: 0.1813 - categorical_accuracy: 0.9532 - val_loss: 3.4226 - val_categorical_accuracy: 0.3600 - lr: 4.0000e-05\n"
     ]
    }
   ],
   "source": [
    "history=conv_3d1.train_model(conv_3d1_model)"
   ]
  },
  {
   "cell_type": "code",
   "execution_count": 12,
   "metadata": {},
   "outputs": [
    {
     "data": {
      "text/plain": [
       "<matplotlib.legend.Legend at 0x21c02f9e9e0>"
      ]
     },
     "execution_count": 12,
     "metadata": {},
     "output_type": "execute_result"
    },
    {
     "data": {
      "image/png": "[encoded data removed]",
      "text/plain": [
       "<Figure size 720x360 with 2 Axes>"
      ]
     },
     "metadata": {
      "needs_background": "light"
     },
     "output_type": "display_data"
    }
   ],
   "source": [
    "fig, axes = plt.subplots(nrows=1, ncols=2, figsize=(10,5))\n",
    "axes[0].plot(history.history['loss'])   \n",
    "axes[0].plot(history.history['val_loss'])\n",
    "axes[0].grid()\n",
    "axes[0].legend(['loss','val_loss'])\n",
    "axes[1].plot(history.history['categorical_accuracy'])   \n",
    "axes[1].plot(history.history['val_categorical_accuracy'])\n",
    "axes[1].grid()\n",
    "axes[1].legend(['categorical_accuracy','val_categorical_accuracy'])"
   ]
  },
  {
   "cell_type": "markdown",
   "metadata": {},
   "source": [
    "<b>Observation:</b></br> The above model clearly shows overfitting. "
   ]
  },
  {
   "cell_type": "markdown",
   "metadata": {},
   "source": [
    "# Model-2 Conv3D"
   ]
  },
  {
   "cell_type": "code",
   "execution_count": 9,
   "metadata": {},
   "outputs": [],
   "source": [
    "class Conv3D_Model2(ModelBuilder):\n",
    "    \n",
    "    def define_model(self):\n",
    "\n",
    "        model = Sequential()\n",
    "        model.add(Conv3D(16, (3, 3, 3), padding='same',\n",
    "                 input_shape=(self.frames_to_sample,self.image_height,self.image_width,self.channels)))\n",
    "        model.add(Activation('relu'))\n",
    "        model.add(BatchNormalization())\n",
    "        model.add(MaxPooling3D(pool_size=(2, 2, 2)))\n",
    "\n",
    "        model.add(Conv3D(32, (2, 2, 2), padding='same'))\n",
    "        model.add(Activation('relu'))\n",
    "        model.add(BatchNormalization())\n",
    "        model.add(MaxPooling3D(pool_size=(2, 2, 2)))\n",
    "\n",
    "        model.add(Conv3D(64, (2, 2, 2), padding='same'))\n",
    "        model.add(Activation('relu'))\n",
    "        model.add(BatchNormalization())\n",
    "        model.add(MaxPooling3D(pool_size=(2, 2, 2)))\n",
    "\n",
    "        model.add(Conv3D(128, (2, 2, 2), padding='same'))\n",
    "        model.add(Activation('relu'))\n",
    "        model.add(BatchNormalization())\n",
    "        model.add(MaxPooling3D(pool_size=(2, 2, 2)))\n",
    "\n",
    "        model.add(Flatten())\n",
    "        model.add(Dense(256,activation='relu'))\n",
    "        model.add(BatchNormalization())\n",
    "        model.add(Dropout(0.5))\n",
    "\n",
    "        model.add(Dense(128,activation='relu'))\n",
    "        model.add(BatchNormalization())\n",
    "        model.add(Dropout(0.5))\n",
    "\n",
    "\n",
    "        model.add(Dense(self.num_classes,activation='softmax'))\n",
    "\n",
    "        optimiser = optimizers.Adam()\n",
    "        model.compile(optimizer=optimiser, loss='categorical_crossentropy', metrics=['categorical_accuracy'])\n",
    "        return model"
   ]
  },
  {
   "cell_type": "code",
   "execution_count": 10,
   "metadata": {},
   "outputs": [
    {
     "name": "stdout",
     "output_type": "stream",
     "text": [
      "Model: \"sequential\"\n",
      "_________________________________________________________________\n",
      " Layer (type)                Output Shape              Param #   \n",
      "=================================================================\n",
      " conv3d (Conv3D)             (None, 30, 128, 128, 16)  1312      \n",
      "                                                                 \n",
      " activation (Activation)     (None, 30, 128, 128, 16)  0         \n",
      "                                                                 \n",
      " batch_normalization (BatchN  (None, 30, 128, 128, 16)  64       \n",
      " ormalization)                                                   \n",
      "                                                                 \n",
      " max_pooling3d (MaxPooling3D  (None, 15, 64, 64, 16)   0         \n",
      " )                                                               \n",
      "                                                                 \n",
      " conv3d_1 (Conv3D)           (None, 15, 64, 64, 32)    4128      \n",
      "                                                                 \n",
      " activation_1 (Activation)   (None, 15, 64, 64, 32)    0         \n",
      "                                                                 \n",
      " batch_normalization_1 (Batc  (None, 15, 64, 64, 32)   128       \n",
      " hNormalization)                                                 \n",
      "                                                                 \n",
      " max_pooling3d_1 (MaxPooling  (None, 7, 32, 32, 32)    0         \n",
      " 3D)                                                             \n",
      "                                                                 \n",
      " conv3d_2 (Conv3D)           (None, 7, 32, 32, 64)     16448     \n",
      "                                                                 \n",
      " activation_2 (Activation)   (None, 7, 32, 32, 64)     0         \n",
      "                                                                 \n",
      " batch_normalization_2 (Batc  (None, 7, 32, 32, 64)    256       \n",
      " hNormalization)                                                 \n",
      "                                                                 \n",
      " max_pooling3d_2 (MaxPooling  (None, 3, 16, 16, 64)    0         \n",
      " 3D)                                                             \n",
      "                                                                 \n",
      " conv3d_3 (Conv3D)           (None, 3, 16, 16, 128)    65664     \n",
      "                                                                 \n",
      " activation_3 (Activation)   (None, 3, 16, 16, 128)    0         \n",
      "                                                                 \n",
      " batch_normalization_3 (Batc  (None, 3, 16, 16, 128)   512       \n",
      " hNormalization)                                                 \n",
      "                                                                 \n",
      " max_pooling3d_3 (MaxPooling  (None, 1, 8, 8, 128)     0         \n",
      " 3D)                                                             \n",
      "                                                                 \n",
      " flatten (Flatten)           (None, 8192)              0         \n",
      "                                                                 \n",
      " dense (Dense)               (None, 256)               2097408   \n",
      "                                                                 \n",
      " batch_normalization_4 (Batc  (None, 256)              1024      \n",
      " hNormalization)                                                 \n",
      "                                                                 \n",
      " dropout (Dropout)           (None, 256)               0         \n",
      "                                                                 \n",
      " dense_1 (Dense)             (None, 128)               32896     \n",
      "                                                                 \n",
      " batch_normalization_5 (Batc  (None, 128)              512       \n",
      " hNormalization)                                                 \n",
      "                                                                 \n",
      " dropout_1 (Dropout)         (None, 128)               0         \n",
      "                                                                 \n",
      " dense_2 (Dense)             (None, 5)                 645       \n",
      "                                                                 \n",
      "=================================================================\n",
      "Total params: 2,220,997\n",
      "Trainable params: 2,219,749\n",
      "Non-trainable params: 1,248\n",
      "_________________________________________________________________\n",
      "None\n",
      "WARNING:tensorflow:`period` argument is deprecated. Please use `save_freq` to specify the frequency in number of batches seen.\n"
     ]
    },
    {
     "name": "stderr",
     "output_type": "stream",
     "text": [
      "C:\\Users\\Bhanu prakash\\AppData\\Local\\Temp\\ipykernel_2352\\672519330.py:125: UserWarning: `Model.fit_generator` is deprecated and will be removed in a future version. Please use `Model.fit`, which supports generators.\n",
      "  history=model.fit_generator(train_generator, steps_per_epoch=steps_per_epoch, epochs=self.num_epochs, verbose=1,\n"
     ]
    },
    {
     "name": "stdout",
     "output_type": "stream",
     "text": [
      "Epoch 1/20\n",
      "67/67 [==============================] - ETA: 0s - loss: 1.7965 - categorical_accuracy: 0.4012\n",
      "Epoch 1: val_loss improved from inf to 6.54609, saving model to model_init_2022-07-0611_26_06.255424\\model-00001-1.79648-0.40121-6.54609-0.16000.h5\n",
      "67/67 [==============================] - 204s 3s/step - loss: 1.7965 - categorical_accuracy: 0.4012 - val_loss: 6.5461 - val_categorical_accuracy: 0.1600 - lr: 0.0010\n",
      "Epoch 2/20\n",
      "67/67 [==============================] - ETA: 0s - loss: 1.4347 - categorical_accuracy: 0.4789\n",
      "Epoch 2: val_loss did not improve from 6.54609\n",
      "67/67 [==============================] - 199s 3s/step - loss: 1.4347 - categorical_accuracy: 0.4789 - val_loss: 14.3254 - val_categorical_accuracy: 0.1600 - lr: 0.0010\n",
      "Epoch 3/20\n",
      "67/67 [==============================] - ETA: 0s - loss: 1.2563 - categorical_accuracy: 0.5415\n",
      "Epoch 3: val_loss did not improve from 6.54609\n",
      "67/67 [==============================] - 202s 3s/step - loss: 1.2563 - categorical_accuracy: 0.5415 - val_loss: 12.0312 - val_categorical_accuracy: 0.1900 - lr: 0.0010\n",
      "Epoch 4/20\n",
      "67/67 [==============================] - ETA: 0s - loss: 0.9718 - categorical_accuracy: 0.6312\n",
      "Epoch 4: val_loss improved from 6.54609 to 3.60986, saving model to model_init_2022-07-0611_26_06.255424\\model-00004-0.97184-0.63122-3.60986-0.25000.h5\n",
      "67/67 [==============================] - 198s 3s/step - loss: 0.9718 - categorical_accuracy: 0.6312 - val_loss: 3.6099 - val_categorical_accuracy: 0.2500 - lr: 0.0010\n",
      "Epoch 5/20\n",
      "67/67 [==============================] - ETA: 0s - loss: 0.8640 - categorical_accuracy: 0.6795\n",
      "Epoch 5: val_loss did not improve from 3.60986\n",
      "67/67 [==============================] - 202s 3s/step - loss: 0.8640 - categorical_accuracy: 0.6795 - val_loss: 3.9506 - val_categorical_accuracy: 0.3000 - lr: 0.0010\n",
      "Epoch 6/20\n",
      "67/67 [==============================] - ETA: 0s - loss: 0.6572 - categorical_accuracy: 0.7587\n",
      "Epoch 6: val_loss improved from 3.60986 to 3.10721, saving model to model_init_2022-07-0611_26_06.255424\\model-00006-0.65722-0.75867-3.10721-0.34000.h5\n",
      "67/67 [==============================] - 199s 3s/step - loss: 0.6572 - categorical_accuracy: 0.7587 - val_loss: 3.1072 - val_categorical_accuracy: 0.3400 - lr: 0.0010\n",
      "Epoch 7/20\n",
      "67/67 [==============================] - ETA: 0s - loss: 0.5761 - categorical_accuracy: 0.7971\n",
      "Epoch 7: val_loss improved from 3.10721 to 1.37879, saving model to model_init_2022-07-0611_26_06.255424\\model-00007-0.57605-0.79713-1.37879-0.60000.h5\n",
      "67/67 [==============================] - 200s 3s/step - loss: 0.5761 - categorical_accuracy: 0.7971 - val_loss: 1.3788 - val_categorical_accuracy: 0.6000 - lr: 0.0010\n",
      "Epoch 8/20\n",
      "67/67 [==============================] - ETA: 0s - loss: 0.4773 - categorical_accuracy: 0.8213\n",
      "Epoch 8: val_loss improved from 1.37879 to 1.01233, saving model to model_init_2022-07-0611_26_06.255424\\model-00008-0.47734-0.82127-1.01233-0.70000.h5\n",
      "67/67 [==============================] - 203s 3s/step - loss: 0.4773 - categorical_accuracy: 0.8213 - val_loss: 1.0123 - val_categorical_accuracy: 0.7000 - lr: 0.0010\n",
      "Epoch 9/20\n",
      "67/67 [==============================] - ETA: 0s - loss: 0.4689 - categorical_accuracy: 0.8288\n",
      "Epoch 9: val_loss improved from 1.01233 to 0.35961, saving model to model_init_2022-07-0611_26_06.255424\\model-00009-0.46893-0.82881-0.35961-0.86000.h5\n",
      "67/67 [==============================] - 200s 3s/step - loss: 0.4689 - categorical_accuracy: 0.8288 - val_loss: 0.3596 - val_categorical_accuracy: 0.8600 - lr: 0.0010\n",
      "Epoch 10/20\n",
      "67/67 [==============================] - ETA: 0s - loss: 0.4244 - categorical_accuracy: 0.8386\n",
      "Epoch 10: val_loss improved from 0.35961 to 0.32390, saving model to model_init_2022-07-0611_26_06.255424\\model-00010-0.42440-0.83861-0.32390-0.91000.h5\n",
      "67/67 [==============================] - 202s 3s/step - loss: 0.4244 - categorical_accuracy: 0.8386 - val_loss: 0.3239 - val_categorical_accuracy: 0.9100 - lr: 0.0010\n",
      "Epoch 11/20\n",
      "67/67 [==============================] - ETA: 0s - loss: 0.3489 - categorical_accuracy: 0.8786\n",
      "Epoch 11: val_loss did not improve from 0.32390\n",
      "67/67 [==============================] - 201s 3s/step - loss: 0.3489 - categorical_accuracy: 0.8786 - val_loss: 1.4194 - val_categorical_accuracy: 0.6000 - lr: 0.0010\n",
      "Epoch 12/20\n",
      "67/67 [==============================] - ETA: 0s - loss: 0.3463 - categorical_accuracy: 0.8801\n",
      "Epoch 12: val_loss did not improve from 0.32390\n",
      "67/67 [==============================] - 200s 3s/step - loss: 0.3463 - categorical_accuracy: 0.8801 - val_loss: 0.8825 - val_categorical_accuracy: 0.7500 - lr: 0.0010\n",
      "Epoch 13/20\n",
      "67/67 [==============================] - ETA: 0s - loss: 0.3633 - categorical_accuracy: 0.8650\n",
      "Epoch 13: val_loss did not improve from 0.32390\n",
      "67/67 [==============================] - 204s 3s/step - loss: 0.3633 - categorical_accuracy: 0.8650 - val_loss: 0.4765 - val_categorical_accuracy: 0.8700 - lr: 0.0010\n",
      "Epoch 14/20\n",
      "67/67 [==============================] - ETA: 0s - loss: 0.3531 - categorical_accuracy: 0.8846\n",
      "Epoch 14: val_loss did not improve from 0.32390\n",
      "\n",
      "Epoch 14: ReduceLROnPlateau reducing learning rate to 0.00020000000949949026.\n",
      "67/67 [==============================] - 204s 3s/step - loss: 0.3531 - categorical_accuracy: 0.8846 - val_loss: 0.3698 - val_categorical_accuracy: 0.8800 - lr: 0.0010\n",
      "Epoch 15/20\n",
      "67/67 [==============================] - ETA: 0s - loss: 0.3122 - categorical_accuracy: 0.8914\n",
      "Epoch 15: val_loss improved from 0.32390 to 0.32028, saving model to model_init_2022-07-0611_26_06.255424\\model-00015-0.31217-0.89140-0.32028-0.92000.h5\n",
      "67/67 [==============================] - 205s 3s/step - loss: 0.3122 - categorical_accuracy: 0.8914 - val_loss: 0.3203 - val_categorical_accuracy: 0.9200 - lr: 2.0000e-04\n",
      "Epoch 16/20\n",
      "67/67 [==============================] - ETA: 0s - loss: 0.2527 - categorical_accuracy: 0.9133\n",
      "Epoch 16: val_loss improved from 0.32028 to 0.21593, saving model to model_init_2022-07-0611_26_06.255424\\model-00016-0.25273-0.91327-0.21593-0.93000.h5\n",
      "67/67 [==============================] - 203s 3s/step - loss: 0.2527 - categorical_accuracy: 0.9133 - val_loss: 0.2159 - val_categorical_accuracy: 0.9300 - lr: 2.0000e-04\n",
      "Epoch 17/20\n",
      "67/67 [==============================] - ETA: 0s - loss: 0.2005 - categorical_accuracy: 0.9291\n",
      "Epoch 17: val_loss did not improve from 0.21593\n",
      "67/67 [==============================] - 202s 3s/step - loss: 0.2005 - categorical_accuracy: 0.9291 - val_loss: 0.2250 - val_categorical_accuracy: 0.9500 - lr: 2.0000e-04\n",
      "Epoch 18/20\n",
      "67/67 [==============================] - ETA: 0s - loss: 0.2356 - categorical_accuracy: 0.9208\n",
      "Epoch 18: val_loss did not improve from 0.21593\n",
      "67/67 [==============================] - 199s 3s/step - loss: 0.2356 - categorical_accuracy: 0.9208 - val_loss: 0.2280 - val_categorical_accuracy: 0.9100 - lr: 2.0000e-04\n",
      "Epoch 19/20\n",
      "67/67 [==============================] - ETA: 0s - loss: 0.1972 - categorical_accuracy: 0.9321\n",
      "Epoch 19: val_loss did not improve from 0.21593\n",
      "67/67 [==============================] - 200s 3s/step - loss: 0.1972 - categorical_accuracy: 0.9321 - val_loss: 0.2452 - val_categorical_accuracy: 0.9300 - lr: 2.0000e-04\n",
      "Epoch 20/20\n",
      "67/67 [==============================] - ETA: 0s - loss: 0.2020 - categorical_accuracy: 0.9223\n",
      "Epoch 20: val_loss did not improve from 0.21593\n",
      "\n",
      "Epoch 20: ReduceLROnPlateau reducing learning rate to 4.0000001899898055e-05.\n",
      "67/67 [==============================] - 203s 3s/step - loss: 0.2020 - categorical_accuracy: 0.9223 - val_loss: 0.2201 - val_categorical_accuracy: 0.9400 - lr: 2.0000e-04\n"
     ]
    }
   ],
   "source": [
    "conv3d2=Conv3D_Model2()\n",
    "conv3d2.set_path(project_folder)\n",
    "conv3d2.set_image_properties(image_height=128,image_width=128)\n",
    "conv3d2.set_hyperparams(frames_to_sample=30,batch_size=10,num_epochs=20)\n",
    "conv3d2_model=conv3d2.define_model()\n",
    "print(conv3d2_model.summary())\n",
    "history2=conv3d2.train_model(conv3d2_model,augment_data=True)"
   ]
  },
  {
   "cell_type": "code",
   "execution_count": 12,
   "metadata": {},
   "outputs": [
    {
     "data": {
      "text/plain": [
       "<matplotlib.legend.Legend at 0x26c27ca5f00>"
      ]
     },
     "execution_count": 12,
     "metadata": {},
     "output_type": "execute_result"
    },
    {
     "data": {
      "image/png": "[encoded data removed]",
      "text/plain": [
       "<Figure size 720x360 with 2 Axes>"
      ]
     },
     "metadata": {
      "needs_background": "light"
     },
     "output_type": "display_data"
    }
   ],
   "source": [
    "fig, axes = plt.subplots(nrows=1, ncols=2, figsize=(10,5))\n",
    "axes[0].plot(history2.history['loss'])   \n",
    "axes[0].plot(history2.history['val_loss'])\n",
    "axes[0].grid()\n",
    "axes[0].legend(['loss','val_loss'])\n",
    "axes[1].plot(history2.history['categorical_accuracy'])   \n",
    "axes[1].plot(history2.history['val_categorical_accuracy'])\n",
    "axes[1].grid()\n",
    "axes[1].legend(['categorical_accuracy','val_categorical_accuracy'])"
   ]
  },
  {
   "cell_type": "markdown",
   "metadata": {},
   "source": [
    "<b>Observation:</b></br> In this model I reduced batch size to 10 because i am getting Out of memory error due to increase of dense neurons. In addtion I increased droupout rate to 0,50 and setting image augment to true, the model generalizes well with training accuracy <b>0.91</b> and validation accuracy <b>0.93</b>"
   ]
  },
  {
   "cell_type": "markdown",
   "metadata": {},
   "source": [
    "# Model-3 CNN_RNN"
   ]
  },
  {
   "cell_type": "code",
   "execution_count": 13,
   "metadata": {},
   "outputs": [],
   "source": [
    "class RNN_CNN_Model1(ModelBuilder):\n",
    "    \n",
    "    def define_model(self):\n",
    "\n",
    "        model = Sequential()\n",
    "\n",
    "        model.add(TimeDistributed(Conv2D(16, (3, 3) , padding='same', activation='relu'),\n",
    "                                  input_shape=(self.frames_to_sample,self.image_height,self.image_width,self.channels)))\n",
    "        model.add(TimeDistributed(BatchNormalization()))\n",
    "        model.add(TimeDistributed(MaxPooling2D((2, 2))))\n",
    "        \n",
    "        model.add(TimeDistributed(Conv2D(32, (3, 3) , padding='same', activation='relu')))\n",
    "        model.add(TimeDistributed(BatchNormalization()))\n",
    "        model.add(TimeDistributed(MaxPooling2D((2, 2))))\n",
    "        \n",
    "        model.add(TimeDistributed(Conv2D(64, (3, 3) , padding='same', activation='relu')))\n",
    "        model.add(TimeDistributed(BatchNormalization()))\n",
    "        model.add(TimeDistributed(MaxPooling2D((2, 2))))\n",
    "        \n",
    "        model.add(TimeDistributed(Conv2D(128, (3, 3) , padding='same', activation='relu')))\n",
    "        model.add(TimeDistributed(BatchNormalization()))\n",
    "        model.add(TimeDistributed(MaxPooling2D((2, 2))))\n",
    "        \n",
    "\n",
    "        model.add(TimeDistributed(Flatten()))\n",
    "\n",
    "\n",
    "        model.add(GRU(128))\n",
    "        model.add(Dropout(0.50))\n",
    "        \n",
    "        model.add(Dense(128,activation='relu'))\n",
    "        model.add(Dropout(0.50))\n",
    "        \n",
    "        model.add(Dense(self.num_classes, activation='softmax'))\n",
    "        optimiser = optimizers.Adam(lr=0.0002)\n",
    "        model.compile(optimizer=optimiser, loss='categorical_crossentropy', metrics=['categorical_accuracy'])\n",
    "        return model"
   ]
  },
  {
   "cell_type": "code",
   "execution_count": 14,
   "metadata": {},
   "outputs": [
    {
     "name": "stdout",
     "output_type": "stream",
     "text": [
      "Model: \"sequential_1\"\n",
      "_________________________________________________________________\n",
      " Layer (type)                Output Shape              Param #   \n",
      "=================================================================\n",
      " time_distributed (TimeDistr  (None, 30, 128, 128, 16)  448      \n",
      " ibuted)                                                         \n",
      "                                                                 \n",
      " time_distributed_1 (TimeDis  (None, 30, 128, 128, 16)  64       \n",
      " tributed)                                                       \n",
      "                                                                 \n",
      " time_distributed_2 (TimeDis  (None, 30, 64, 64, 16)   0         \n",
      " tributed)                                                       \n",
      "                                                                 \n",
      " time_distributed_3 (TimeDis  (None, 30, 64, 64, 32)   4640      \n",
      " tributed)                                                       \n",
      "                                                                 \n",
      " time_distributed_4 (TimeDis  (None, 30, 64, 64, 32)   128       \n",
      " tributed)                                                       \n",
      "                                                                 \n",
      " time_distributed_5 (TimeDis  (None, 30, 32, 32, 32)   0         \n",
      " tributed)                                                       \n",
      "                                                                 \n",
      " time_distributed_6 (TimeDis  (None, 30, 32, 32, 64)   18496     \n",
      " tributed)                                                       \n",
      "                                                                 \n",
      " time_distributed_7 (TimeDis  (None, 30, 32, 32, 64)   256       \n",
      " tributed)                                                       \n",
      "                                                                 \n",
      " time_distributed_8 (TimeDis  (None, 30, 16, 16, 64)   0         \n",
      " tributed)                                                       \n",
      "                                                                 \n",
      " time_distributed_9 (TimeDis  (None, 30, 16, 16, 128)  73856     \n",
      " tributed)                                                       \n",
      "                                                                 \n",
      " time_distributed_10 (TimeDi  (None, 30, 16, 16, 128)  512       \n",
      " stributed)                                                      \n",
      "                                                                 \n",
      " time_distributed_11 (TimeDi  (None, 30, 8, 8, 128)    0         \n",
      " stributed)                                                      \n",
      "                                                                 \n",
      " time_distributed_12 (TimeDi  (None, 30, 8192)         0         \n",
      " stributed)                                                      \n",
      "                                                                 \n",
      " gru (GRU)                   (None, 128)               3195648   \n",
      "                                                                 \n",
      " dropout_2 (Dropout)         (None, 128)               0         \n",
      "                                                                 \n",
      " dense_3 (Dense)             (None, 128)               16512     \n",
      "                                                                 \n",
      " dropout_3 (Dropout)         (None, 128)               0         \n",
      "                                                                 \n",
      " dense_4 (Dense)             (None, 5)                 645       \n",
      "                                                                 \n",
      "=================================================================\n",
      "Total params: 3,311,205\n",
      "Trainable params: 3,310,725\n",
      "Non-trainable params: 480\n",
      "_________________________________________________________________\n"
     ]
    },
    {
     "name": "stderr",
     "output_type": "stream",
     "text": [
      "D:\\Anaconda\\envs\\tensorflow\\lib\\site-packages\\keras\\optimizers\\optimizer_v2\\adam.py:110: UserWarning: The `lr` argument is deprecated, use `learning_rate` instead.\n",
      "  super(Adam, self).__init__(name, **kwargs)\n"
     ]
    }
   ],
   "source": [
    "rnn_cnn1=RNN_CNN_Model1()\n",
    "rnn_cnn1.set_path(project_folder)\n",
    "rnn_cnn1.set_image_properties(image_height=128,image_width=128)\n",
    "rnn_cnn1.set_hyperparams(frames_to_sample=30,batch_size=10,num_epochs=20)\n",
    "rnn_cnn1_model=rnn_cnn1.define_model()\n",
    "rnn_cnn1_model.summary()"
   ]
  },
  {
   "cell_type": "code",
   "execution_count": 15,
   "metadata": {},
   "outputs": [
    {
     "name": "stdout",
     "output_type": "stream",
     "text": [
      "WARNING:tensorflow:`period` argument is deprecated. Please use `save_freq` to specify the frequency in number of batches seen.\n"
     ]
    },
    {
     "name": "stderr",
     "output_type": "stream",
     "text": [
      "C:\\Users\\Bhanu prakash\\AppData\\Local\\Temp\\ipykernel_23868\\672519330.py:125: UserWarning: `Model.fit_generator` is deprecated and will be removed in a future version. Please use `Model.fit`, which supports generators.\n",
      "  history=model.fit_generator(train_generator, steps_per_epoch=steps_per_epoch, epochs=self.num_epochs, verbose=1,\n"
     ]
    },
    {
     "name": "stdout",
     "output_type": "stream",
     "text": [
      "Epoch 1/20\n",
      "67/67 [==============================] - ETA: 0s - loss: 1.7108 - categorical_accuracy: 0.3220\n",
      "Epoch 1: val_loss improved from inf to 1.74432, saving model to model_init_2022-07-0709_37_48.052428\\model-00001-1.71077-0.32202-1.74432-0.27000.h5\n",
      "67/67 [==============================] - 201s 3s/step - loss: 1.7108 - categorical_accuracy: 0.3220 - val_loss: 1.7443 - val_categorical_accuracy: 0.2700 - lr: 2.0000e-04\n",
      "Epoch 2/20\n",
      "67/67 [==============================] - ETA: 0s - loss: 1.3558 - categorical_accuracy: 0.4382\n",
      "Epoch 2: val_loss did not improve from 1.74432\n",
      "67/67 [==============================] - 196s 3s/step - loss: 1.3558 - categorical_accuracy: 0.4382 - val_loss: 2.0422 - val_categorical_accuracy: 0.2200 - lr: 2.0000e-04\n",
      "Epoch 3/20\n",
      "67/67 [==============================] - ETA: 0s - loss: 1.1975 - categorical_accuracy: 0.5158\n",
      "Epoch 3: val_loss did not improve from 1.74432\n",
      "67/67 [==============================] - 194s 3s/step - loss: 1.1975 - categorical_accuracy: 0.5158 - val_loss: 2.4485 - val_categorical_accuracy: 0.2000 - lr: 2.0000e-04\n",
      "Epoch 4/20\n",
      "67/67 [==============================] - ETA: 0s - loss: 1.0665 - categorical_accuracy: 0.5709\n",
      "Epoch 4: val_loss did not improve from 1.74432\n",
      "67/67 [==============================] - 196s 3s/step - loss: 1.0665 - categorical_accuracy: 0.5709 - val_loss: 2.4142 - val_categorical_accuracy: 0.2800 - lr: 2.0000e-04\n",
      "Epoch 5/20\n",
      "67/67 [==============================] - ETA: 0s - loss: 0.9694 - categorical_accuracy: 0.6229\n",
      "Epoch 5: val_loss did not improve from 1.74432\n",
      "\n",
      "Epoch 5: ReduceLROnPlateau reducing learning rate to 3.9999998989515007e-05.\n",
      "67/67 [==============================] - 196s 3s/step - loss: 0.9694 - categorical_accuracy: 0.6229 - val_loss: 2.1195 - val_categorical_accuracy: 0.3000 - lr: 2.0000e-04\n",
      "Epoch 6/20\n",
      "67/67 [==============================] - ETA: 0s - loss: 0.8053 - categorical_accuracy: 0.7044\n",
      "Epoch 6: val_loss did not improve from 1.74432\n",
      "67/67 [==============================] - 195s 3s/step - loss: 0.8053 - categorical_accuracy: 0.7044 - val_loss: 2.2986 - val_categorical_accuracy: 0.2600 - lr: 4.0000e-05\n",
      "Epoch 7/20\n",
      "67/67 [==============================] - ETA: 0s - loss: 0.7462 - categorical_accuracy: 0.7097\n",
      "Epoch 7: val_loss improved from 1.74432 to 1.69326, saving model to model_init_2022-07-0709_37_48.052428\\model-00007-0.74619-0.70965-1.69326-0.37000.h5\n",
      "67/67 [==============================] - 195s 3s/step - loss: 0.7462 - categorical_accuracy: 0.7097 - val_loss: 1.6933 - val_categorical_accuracy: 0.3700 - lr: 4.0000e-05\n",
      "Epoch 8/20\n",
      "67/67 [==============================] - ETA: 0s - loss: 0.6682 - categorical_accuracy: 0.7549\n",
      "Epoch 8: val_loss improved from 1.69326 to 1.25566, saving model to model_init_2022-07-0709_37_48.052428\\model-00008-0.66818-0.75490-1.25566-0.58000.h5\n",
      "67/67 [==============================] - 193s 3s/step - loss: 0.6682 - categorical_accuracy: 0.7549 - val_loss: 1.2557 - val_categorical_accuracy: 0.5800 - lr: 4.0000e-05\n",
      "Epoch 9/20\n",
      "67/67 [==============================] - ETA: 0s - loss: 0.6244 - categorical_accuracy: 0.7821\n",
      "Epoch 9: val_loss improved from 1.25566 to 0.92875, saving model to model_init_2022-07-0709_37_48.052428\\model-00009-0.62444-0.78205-0.92875-0.64000.h5\n",
      "67/67 [==============================] - 195s 3s/step - loss: 0.6244 - categorical_accuracy: 0.7821 - val_loss: 0.9287 - val_categorical_accuracy: 0.6400 - lr: 4.0000e-05\n",
      "Epoch 10/20\n",
      "67/67 [==============================] - ETA: 0s - loss: 0.6403 - categorical_accuracy: 0.7655\n",
      "Epoch 10: val_loss improved from 0.92875 to 0.62875, saving model to model_init_2022-07-0709_37_48.052428\\model-00010-0.64027-0.76546-0.62875-0.79000.h5\n",
      "67/67 [==============================] - 196s 3s/step - loss: 0.6403 - categorical_accuracy: 0.7655 - val_loss: 0.6287 - val_categorical_accuracy: 0.7900 - lr: 4.0000e-05\n",
      "Epoch 11/20\n",
      "67/67 [==============================] - ETA: 0s - loss: 0.5854 - categorical_accuracy: 0.7866\n",
      "Epoch 11: val_loss improved from 0.62875 to 0.62307, saving model to model_init_2022-07-0709_37_48.052428\\model-00011-0.58545-0.78658-0.62307-0.78000.h5\n",
      "67/67 [==============================] - 196s 3s/step - loss: 0.5854 - categorical_accuracy: 0.7866 - val_loss: 0.6231 - val_categorical_accuracy: 0.7800 - lr: 4.0000e-05\n",
      "Epoch 12/20\n",
      "67/67 [==============================] - ETA: 0s - loss: 0.5827 - categorical_accuracy: 0.7934\n",
      "Epoch 12: val_loss improved from 0.62307 to 0.54761, saving model to model_init_2022-07-0709_37_48.052428\\model-00012-0.58273-0.79336-0.54761-0.82000.h5\n",
      "67/67 [==============================] - 195s 3s/step - loss: 0.5827 - categorical_accuracy: 0.7934 - val_loss: 0.5476 - val_categorical_accuracy: 0.8200 - lr: 4.0000e-05\n",
      "Epoch 13/20\n",
      "67/67 [==============================] - ETA: 0s - loss: 0.5064 - categorical_accuracy: 0.8198\n",
      "Epoch 13: val_loss improved from 0.54761 to 0.48048, saving model to model_init_2022-07-0709_37_48.052428\\model-00013-0.50643-0.81976-0.48048-0.83000.h5\n",
      "67/67 [==============================] - 195s 3s/step - loss: 0.5064 - categorical_accuracy: 0.8198 - val_loss: 0.4805 - val_categorical_accuracy: 0.8300 - lr: 4.0000e-05\n",
      "Epoch 14/20\n",
      "67/67 [==============================] - ETA: 0s - loss: 0.5282 - categorical_accuracy: 0.8137\n",
      "Epoch 14: val_loss did not improve from 0.48048\n",
      "67/67 [==============================] - 196s 3s/step - loss: 0.5282 - categorical_accuracy: 0.8137 - val_loss: 0.5283 - val_categorical_accuracy: 0.8500 - lr: 4.0000e-05\n",
      "Epoch 15/20\n",
      "67/67 [==============================] - ETA: 0s - loss: 0.4846 - categorical_accuracy: 0.8326\n",
      "Epoch 15: val_loss improved from 0.48048 to 0.45670, saving model to model_init_2022-07-0709_37_48.052428\\model-00015-0.48460-0.83258-0.45670-0.86000.h5\n",
      "67/67 [==============================] - 195s 3s/step - loss: 0.4846 - categorical_accuracy: 0.8326 - val_loss: 0.4567 - val_categorical_accuracy: 0.8600 - lr: 4.0000e-05\n",
      "Epoch 16/20\n",
      "67/67 [==============================] - ETA: 0s - loss: 0.4338 - categorical_accuracy: 0.8499\n",
      "Epoch 16: val_loss did not improve from 0.45670\n",
      "67/67 [==============================] - 194s 3s/step - loss: 0.4338 - categorical_accuracy: 0.8499 - val_loss: 0.4820 - val_categorical_accuracy: 0.8500 - lr: 4.0000e-05\n",
      "Epoch 17/20\n",
      "67/67 [==============================] - ETA: 0s - loss: 0.4228 - categorical_accuracy: 0.8673\n",
      "Epoch 17: val_loss did not improve from 0.45670\n",
      "67/67 [==============================] - 199s 3s/step - loss: 0.4228 - categorical_accuracy: 0.8673 - val_loss: 0.5119 - val_categorical_accuracy: 0.8200 - lr: 4.0000e-05\n",
      "Epoch 18/20\n",
      "67/67 [==============================] - ETA: 0s - loss: 0.4170 - categorical_accuracy: 0.8544\n",
      "Epoch 18: val_loss improved from 0.45670 to 0.39031, saving model to model_init_2022-07-0709_37_48.052428\\model-00018-0.41700-0.85445-0.39031-0.88000.h5\n",
      "67/67 [==============================] - 194s 3s/step - loss: 0.4170 - categorical_accuracy: 0.8544 - val_loss: 0.3903 - val_categorical_accuracy: 0.8800 - lr: 4.0000e-05\n",
      "Epoch 19/20\n",
      "67/67 [==============================] - ETA: 0s - loss: 0.3845 - categorical_accuracy: 0.8710\n",
      "Epoch 19: val_loss did not improve from 0.39031\n",
      "67/67 [==============================] - 195s 3s/step - loss: 0.3845 - categorical_accuracy: 0.8710 - val_loss: 0.5023 - val_categorical_accuracy: 0.8500 - lr: 4.0000e-05\n",
      "Epoch 20/20\n",
      "67/67 [==============================] - ETA: 0s - loss: 0.3539 - categorical_accuracy: 0.8824\n",
      "Epoch 20: val_loss did not improve from 0.39031\n",
      "67/67 [==============================] - 195s 3s/step - loss: 0.3539 - categorical_accuracy: 0.8824 - val_loss: 0.4954 - val_categorical_accuracy: 0.8200 - lr: 4.0000e-05\n"
     ]
    }
   ],
   "source": [
    "history3=rnn_cnn1.train_model(rnn_cnn1_model,augment_data=True)"
   ]
  },
  {
   "cell_type": "code",
   "execution_count": 16,
   "metadata": {},
   "outputs": [
    {
     "data": {
      "text/plain": [
       "<matplotlib.legend.Legend at 0x219871759f0>"
      ]
     },
     "execution_count": 16,
     "metadata": {},
     "output_type": "execute_result"
    },
    {
     "data": {
      "image/png": "[encoded data removed]",
      "text/plain": [
       "<Figure size 720x360 with 2 Axes>"
      ]
     },
     "metadata": {
      "needs_background": "light"
     },
     "output_type": "display_data"
    }
   ],
   "source": [
    "fig, axes = plt.subplots(nrows=1, ncols=2, figsize=(10,5))\n",
    "axes[0].plot(history3.history['loss'])   \n",
    "axes[0].plot(history3.history['val_loss'])\n",
    "axes[0].grid()\n",
    "axes[0].legend(['loss','val_loss'])\n",
    "axes[1].plot(history3.history['categorical_accuracy'])   \n",
    "axes[1].plot(history3.history['val_categorical_accuracy'])\n",
    "axes[1].grid()\n",
    "axes[1].legend(['categorical_accuracy','val_categorical_accuracy'])"
   ]
  },
  {
   "cell_type": "markdown",
   "metadata": {},
   "source": [
    "<b>Observation:</b></br> This model has best validation accuracy at 18 epoch with 0.88  and train accuarcy 0f 0.85 but validation loss didn't improve after 18 epoch."
   ]
  },
  {
   "cell_type": "markdown",
   "metadata": {},
   "source": [
    "# Model-4 CNN_RNN Transfer Learning"
   ]
  },
  {
   "cell_type": "code",
   "execution_count": 38,
   "metadata": {},
   "outputs": [],
   "source": [
    "from keras.applications import InceptionV3\n",
    "inception_model = InceptionV3(weights='imagenet', include_top=False)"
   ]
  },
  {
   "cell_type": "code",
   "execution_count": 13,
   "metadata": {},
   "outputs": [],
   "source": [
    "class Transfer_InceptionModel(ModelBuilder):\n",
    "    \n",
    "    def define_model(self):\n",
    "\n",
    "        model = Sequential()\n",
    "\n",
    "        model.add(TimeDistributed(inception_model,\n",
    "                                  input_shape=(self.frames_to_sample,self.image_height,self.image_width,self.channels)))\n",
    "\n",
    "        \n",
    "        \n",
    "        model.add(TimeDistributed(BatchNormalization()))\n",
    "        model.add(TimeDistributed(MaxPooling2D((2, 2))))\n",
    "        model.add(TimeDistributed(Flatten()))\n",
    "\n",
    "\n",
    "        model.add(GRU(128))\n",
    "        model.add(Dropout(0.50))\n",
    "        \n",
    "        model.add(Dense(128,activation='relu'))\n",
    "        model.add(Dropout(0.50))\n",
    "        \n",
    "        model.add(Dense(self.num_classes, activation='softmax'))\n",
    "        optimiser = optimizers.Adam(lr=0.0002)\n",
    "        model.compile(optimizer=optimiser, loss='categorical_crossentropy', metrics=['categorical_accuracy'])\n",
    "        return model"
   ]
  },
  {
   "cell_type": "code",
   "execution_count": 14,
   "metadata": {},
   "outputs": [
    {
     "name": "stdout",
     "output_type": "stream",
     "text": [
      "Model: \"sequential\"\n",
      "_________________________________________________________________\n",
      " Layer (type)                Output Shape              Param #   \n",
      "=================================================================\n",
      " time_distributed (TimeDistr  (None, 30, 2, 2, 2048)   21802784  \n",
      " ibuted)                                                         \n",
      "                                                                 \n",
      " time_distributed_1 (TimeDis  (None, 30, 2, 2, 2048)   8192      \n",
      " tributed)                                                       \n",
      "                                                                 \n",
      " time_distributed_2 (TimeDis  (None, 30, 1, 1, 2048)   0         \n",
      " tributed)                                                       \n",
      "                                                                 \n",
      " time_distributed_3 (TimeDis  (None, 30, 2048)         0         \n",
      " tributed)                                                       \n",
      "                                                                 \n",
      " gru (GRU)                   (None, 128)               836352    \n",
      "                                                                 \n",
      " dropout (Dropout)           (None, 128)               0         \n",
      "                                                                 \n",
      " dense (Dense)               (None, 128)               16512     \n",
      "                                                                 \n",
      " dropout_1 (Dropout)         (None, 128)               0         \n",
      "                                                                 \n",
      " dense_1 (Dense)             (None, 5)                 645       \n",
      "                                                                 \n",
      "=================================================================\n",
      "Total params: 22,664,485\n",
      "Trainable params: 22,625,957\n",
      "Non-trainable params: 38,528\n",
      "_________________________________________________________________\n"
     ]
    },
    {
     "name": "stderr",
     "output_type": "stream",
     "text": [
      "D:\\Anaconda\\envs\\tensorflow\\lib\\site-packages\\keras\\optimizers\\optimizer_v2\\adam.py:110: UserWarning: The `lr` argument is deprecated, use `learning_rate` instead.\n",
      "  super(Adam, self).__init__(name, **kwargs)\n"
     ]
    }
   ],
   "source": [
    "tl=Transfer_InceptionModel()\n",
    "tl.set_path(project_folder)\n",
    "tl.set_image_properties(image_height=128,image_width=128)\n",
    "tl.set_hyperparams(frames_to_sample=30,batch_size=5,num_epochs=25)\n",
    "tl_rnn_model=tl.define_model()\n",
    "tl_rnn_model.summary()"
   ]
  },
  {
   "cell_type": "code",
   "execution_count": 15,
   "metadata": {},
   "outputs": [
    {
     "name": "stdout",
     "output_type": "stream",
     "text": [
      "WARNING:tensorflow:`period` argument is deprecated. Please use `save_freq` to specify the frequency in number of batches seen.\n"
     ]
    },
    {
     "name": "stderr",
     "output_type": "stream",
     "text": [
      "C:\\Users\\Bhanu prakash\\AppData\\Local\\Temp\\ipykernel_16500\\3549090176.py:125: UserWarning: `Model.fit_generator` is deprecated and will be removed in a future version. Please use `Model.fit`, which supports generators.\n",
      "  history=model.fit_generator(train_generator, steps_per_epoch=steps_per_epoch, epochs=self.num_epochs, verbose=1,\n"
     ]
    },
    {
     "name": "stdout",
     "output_type": "stream",
     "text": [
      "Epoch 1/25\n",
      "133/133 [==============================] - ETA: 0s - loss: 1.7061 - categorical_accuracy: 0.3107\n",
      "Epoch 1: val_loss improved from inf to 1.26548, saving model to model_init_2022-07-0918_12_21.192995\\model-00001-1.70607-0.31071-1.26548-0.53000.h5\n",
      "133/133 [==============================] - 220s 2s/step - loss: 1.7061 - categorical_accuracy: 0.3107 - val_loss: 1.2655 - val_categorical_accuracy: 0.5300 - lr: 2.0000e-04\n",
      "Epoch 2/25\n",
      "133/133 [==============================] - ETA: 0s - loss: 1.0544 - categorical_accuracy: 0.5852\n",
      "Epoch 2: val_loss improved from 1.26548 to 0.51481, saving model to model_init_2022-07-0918_12_21.192995\\model-00002-1.05444-0.58522-0.51481-0.80000.h5\n",
      "133/133 [==============================] - 206s 2s/step - loss: 1.0544 - categorical_accuracy: 0.5852 - val_loss: 0.5148 - val_categorical_accuracy: 0.8000 - lr: 2.0000e-04\n",
      "Epoch 3/25\n",
      "133/133 [==============================] - ETA: 0s - loss: 0.5565 - categorical_accuracy: 0.8228\n",
      "Epoch 3: val_loss improved from 0.51481 to 0.41032, saving model to model_init_2022-07-0918_12_21.192995\\model-00003-0.55654-0.82278-0.41032-0.85000.h5\n",
      "133/133 [==============================] - 207s 2s/step - loss: 0.5565 - categorical_accuracy: 0.8228 - val_loss: 0.4103 - val_categorical_accuracy: 0.8500 - lr: 2.0000e-04\n",
      "Epoch 4/25\n",
      "133/133 [==============================] - ETA: 0s - loss: 0.4254 - categorical_accuracy: 0.8650\n",
      "Epoch 4: val_loss did not improve from 0.41032\n",
      "133/133 [==============================] - 207s 2s/step - loss: 0.4254 - categorical_accuracy: 0.8650 - val_loss: 0.6008 - val_categorical_accuracy: 0.8100 - lr: 2.0000e-04\n",
      "Epoch 5/25\n",
      "133/133 [==============================] - ETA: 0s - loss: 0.2843 - categorical_accuracy: 0.9163\n",
      "Epoch 5: val_loss did not improve from 0.41032\n",
      "133/133 [==============================] - 206s 2s/step - loss: 0.2843 - categorical_accuracy: 0.9163 - val_loss: 0.4704 - val_categorical_accuracy: 0.8500 - lr: 2.0000e-04\n",
      "Epoch 6/25\n",
      "133/133 [==============================] - ETA: 0s - loss: 0.2097 - categorical_accuracy: 0.9291\n",
      "Epoch 6: val_loss improved from 0.41032 to 0.19762, saving model to model_init_2022-07-0918_12_21.192995\\model-00006-0.20971-0.92911-0.19762-0.93000.h5\n",
      "133/133 [==============================] - 207s 2s/step - loss: 0.2097 - categorical_accuracy: 0.9291 - val_loss: 0.1976 - val_categorical_accuracy: 0.9300 - lr: 2.0000e-04\n",
      "Epoch 7/25\n",
      "133/133 [==============================] - ETA: 0s - loss: 0.1325 - categorical_accuracy: 0.9585\n",
      "Epoch 7: val_loss did not improve from 0.19762\n",
      "133/133 [==============================] - 200s 2s/step - loss: 0.1325 - categorical_accuracy: 0.9585 - val_loss: 0.3547 - val_categorical_accuracy: 0.8900 - lr: 2.0000e-04\n",
      "Epoch 8/25\n",
      "133/133 [==============================] - ETA: 0s - loss: 0.1337 - categorical_accuracy: 0.9638\n",
      "Epoch 8: val_loss did not improve from 0.19762\n",
      "133/133 [==============================] - 203s 2s/step - loss: 0.1337 - categorical_accuracy: 0.9638 - val_loss: 0.3781 - val_categorical_accuracy: 0.8800 - lr: 2.0000e-04\n",
      "Epoch 9/25\n",
      "133/133 [==============================] - ETA: 0s - loss: 0.1514 - categorical_accuracy: 0.9570\n",
      "Epoch 9: val_loss improved from 0.19762 to 0.17017, saving model to model_init_2022-07-0918_12_21.192995\\model-00009-0.15140-0.95701-0.17017-0.93000.h5\n",
      "133/133 [==============================] - 207s 2s/step - loss: 0.1514 - categorical_accuracy: 0.9570 - val_loss: 0.1702 - val_categorical_accuracy: 0.9300 - lr: 2.0000e-04\n",
      "Epoch 10/25\n",
      "133/133 [==============================] - ETA: 0s - loss: 0.1732 - categorical_accuracy: 0.9472\n",
      "Epoch 10: val_loss did not improve from 0.17017\n",
      "133/133 [==============================] - 213s 2s/step - loss: 0.1732 - categorical_accuracy: 0.9472 - val_loss: 0.2857 - val_categorical_accuracy: 0.8700 - lr: 2.0000e-04\n",
      "Epoch 11/25\n",
      "133/133 [==============================] - ETA: 0s - loss: 0.0663 - categorical_accuracy: 0.9849\n",
      "Epoch 11: val_loss did not improve from 0.17017\n",
      "133/133 [==============================] - 214s 2s/step - loss: 0.0663 - categorical_accuracy: 0.9849 - val_loss: 0.4017 - val_categorical_accuracy: 0.8700 - lr: 2.0000e-04\n",
      "Epoch 12/25\n",
      "133/133 [==============================] - ETA: 0s - loss: 0.1071 - categorical_accuracy: 0.9668\n",
      "Epoch 12: val_loss did not improve from 0.17017\n",
      "133/133 [==============================] - 211s 2s/step - loss: 0.1071 - categorical_accuracy: 0.9668 - val_loss: 0.5078 - val_categorical_accuracy: 0.8700 - lr: 2.0000e-04\n",
      "Epoch 13/25\n",
      "133/133 [==============================] - ETA: 0s - loss: 0.1018 - categorical_accuracy: 0.9683\n",
      "Epoch 13: val_loss did not improve from 0.17017\n",
      "\n",
      "Epoch 13: ReduceLROnPlateau reducing learning rate to 3.9999998989515007e-05.\n",
      "133/133 [==============================] - 213s 2s/step - loss: 0.1018 - categorical_accuracy: 0.9683 - val_loss: 0.2998 - val_categorical_accuracy: 0.9000 - lr: 2.0000e-04\n",
      "Epoch 14/25\n",
      "133/133 [==============================] - ETA: 0s - loss: 0.0479 - categorical_accuracy: 0.9834\n",
      "Epoch 14: val_loss did not improve from 0.17017\n",
      "133/133 [==============================] - 214s 2s/step - loss: 0.0479 - categorical_accuracy: 0.9834 - val_loss: 0.3462 - val_categorical_accuracy: 0.9200 - lr: 4.0000e-05\n",
      "Epoch 15/25\n",
      "133/133 [==============================] - ETA: 0s - loss: 0.0422 - categorical_accuracy: 0.9879\n",
      "Epoch 15: val_loss did not improve from 0.17017\n",
      "133/133 [==============================] - 211s 2s/step - loss: 0.0422 - categorical_accuracy: 0.9879 - val_loss: 0.2534 - val_categorical_accuracy: 0.9200 - lr: 4.0000e-05\n",
      "Epoch 16/25\n",
      "133/133 [==============================] - ETA: 0s - loss: 0.0366 - categorical_accuracy: 0.9910\n",
      "Epoch 16: val_loss did not improve from 0.17017\n",
      "133/133 [==============================] - 214s 2s/step - loss: 0.0366 - categorical_accuracy: 0.9910 - val_loss: 0.2352 - val_categorical_accuracy: 0.9300 - lr: 4.0000e-05\n",
      "Epoch 17/25\n",
      "133/133 [==============================] - ETA: 0s - loss: 0.0171 - categorical_accuracy: 0.9970\n",
      "Epoch 17: val_loss did not improve from 0.17017\n",
      "\n",
      "Epoch 17: ReduceLROnPlateau reducing learning rate to 7.999999797903002e-06.\n",
      "133/133 [==============================] - 213s 2s/step - loss: 0.0171 - categorical_accuracy: 0.9970 - val_loss: 0.1755 - val_categorical_accuracy: 0.9300 - lr: 4.0000e-05\n",
      "Epoch 18/25\n",
      "133/133 [==============================] - ETA: 0s - loss: 0.0195 - categorical_accuracy: 0.9947\n",
      "Epoch 18: val_loss did not improve from 0.17017\n",
      "133/133 [==============================] - 216s 2s/step - loss: 0.0195 - categorical_accuracy: 0.9947 - val_loss: 0.2054 - val_categorical_accuracy: 0.9500 - lr: 8.0000e-06\n",
      "Epoch 19/25\n",
      "133/133 [==============================] - ETA: 0s - loss: 0.0340 - categorical_accuracy: 0.9925\n",
      "Epoch 19: val_loss did not improve from 0.17017\n",
      "133/133 [==============================] - 212s 2s/step - loss: 0.0340 - categorical_accuracy: 0.9925 - val_loss: 0.2960 - val_categorical_accuracy: 0.9000 - lr: 8.0000e-06\n",
      "Epoch 19: early stopping\n"
     ]
    }
   ],
   "source": [
    "history4=tl.train_model(tl_rnn_model,augment_data=True)"
   ]
  },
  {
   "cell_type": "code",
   "execution_count": 16,
   "metadata": {},
   "outputs": [
    {
     "data": {
      "text/plain": [
       "<matplotlib.legend.Legend at 0x2b4c8f4fd30>"
      ]
     },
     "execution_count": 16,
     "metadata": {},
     "output_type": "execute_result"
    },
    {
     "data": {
      "image/png": "[encoded data removed]",
      "text/plain": [
       "<Figure size 720x360 with 2 Axes>"
      ]
     },
     "metadata": {
      "needs_background": "light"
     },
     "output_type": "display_data"
    }
   ],
   "source": [
    "fig, axes = plt.subplots(nrows=1, ncols=2, figsize=(10,5))\n",
    "axes[0].plot(history4.history['loss'])   \n",
    "axes[0].plot(history4.history['val_loss'])\n",
    "axes[0].grid()\n",
    "axes[0].legend(['loss','val_loss'])\n",
    "axes[1].plot(history4.history['categorical_accuracy'])   \n",
    "axes[1].plot(history4.history['val_categorical_accuracy'])\n",
    "axes[1].grid()\n",
    "axes[1].legend(['categorical_accuracy','val_categorical_accuracy'])"
   ]
  },
  {
   "cell_type": "markdown",
   "metadata": {},
   "source": [
    "<b>Observation:</b></br>With Inceptionv3 model transfer learning we got training accuracy of <b>0.96</b> and validation accuracy of <b>0.93</b> at 9 epoch"
   ]
  },
  {
   "cell_type": "markdown",
   "metadata": {},
   "source": [
    "# Model-5 CNN_RNN Transfer Learning"
   ]
  },
  {
   "cell_type": "code",
   "execution_count": 41,
   "metadata": {},
   "outputs": [],
   "source": [
    "class Transfer_InceptionModel_2(ModelBuilder):\n",
    "    \n",
    "    def define_model(self):\n",
    "\n",
    "        model = Sequential()\n",
    "\n",
    "        model.add(TimeDistributed(inception_model,\n",
    "                                  input_shape=(self.frames_to_sample,self.image_height,self.image_width,self.channels)))\n",
    "\n",
    "        \n",
    "        \n",
    "        model.add(TimeDistributed(BatchNormalization()))\n",
    "        model.add(TimeDistributed(MaxPooling2D((2, 2))))\n",
    "        model.add(TimeDistributed(Flatten()))\n",
    "\n",
    "\n",
    "        model.add(GRU(128))\n",
    "        model.add(Dropout(0.50))\n",
    "        \n",
    "        model.add(Dense(256,activation='relu'))\n",
    "        model.add(Dropout(0.50))\n",
    "        \n",
    "        model.add(Dense(128,activation='relu'))\n",
    "        model.add(Dropout(0.50))\n",
    "        \n",
    "        model.add(Dense(self.num_classes, activation='softmax'))\n",
    "        optimiser = optimizers.Adam(lr=0.0002)\n",
    "        model.compile(optimizer=optimiser, loss='categorical_crossentropy', metrics=['categorical_accuracy'])\n",
    "        return model"
   ]
  },
  {
   "cell_type": "code",
   "execution_count": 42,
   "metadata": {},
   "outputs": [
    {
     "name": "stdout",
     "output_type": "stream",
     "text": [
      "Model: \"sequential_2\"\n",
      "_________________________________________________________________\n",
      " Layer (type)                Output Shape              Param #   \n",
      "=================================================================\n",
      " time_distributed_4 (TimeDis  (None, 30, 2, 2, 2048)   21802784  \n",
      " tributed)                                                       \n",
      "                                                                 \n",
      " time_distributed_5 (TimeDis  (None, 30, 2, 2, 2048)   8192      \n",
      " tributed)                                                       \n",
      "                                                                 \n",
      " time_distributed_6 (TimeDis  (None, 30, 1, 1, 2048)   0         \n",
      " tributed)                                                       \n",
      "                                                                 \n",
      " time_distributed_7 (TimeDis  (None, 30, 2048)         0         \n",
      " tributed)                                                       \n",
      "                                                                 \n",
      " gru_1 (GRU)                 (None, 128)               836352    \n",
      "                                                                 \n",
      " dropout_3 (Dropout)         (None, 128)               0         \n",
      "                                                                 \n",
      " dense_3 (Dense)             (None, 256)               33024     \n",
      "                                                                 \n",
      " dropout_4 (Dropout)         (None, 256)               0         \n",
      "                                                                 \n",
      " dense_4 (Dense)             (None, 128)               32896     \n",
      "                                                                 \n",
      " dropout_5 (Dropout)         (None, 128)               0         \n",
      "                                                                 \n",
      " dense_5 (Dense)             (None, 5)                 645       \n",
      "                                                                 \n",
      "=================================================================\n",
      "Total params: 22,713,893\n",
      "Trainable params: 22,675,365\n",
      "Non-trainable params: 38,528\n",
      "_________________________________________________________________\n"
     ]
    }
   ],
   "source": [
    "tl_2=Transfer_InceptionModel_2()\n",
    "tl_2.set_path(project_folder)\n",
    "tl_2.set_image_properties(image_height=128,image_width=128)\n",
    "tl_2.set_hyperparams(frames_to_sample=30,batch_size=5,num_epochs=25)\n",
    "tl_2_rnn_model=tl_2.define_model()\n",
    "tl_2_rnn_model.summary()"
   ]
  },
  {
   "cell_type": "code",
   "execution_count": 45,
   "metadata": {},
   "outputs": [
    {
     "name": "stdout",
     "output_type": "stream",
     "text": [
      "WARNING:tensorflow:`period` argument is deprecated. Please use `save_freq` to specify the frequency in number of batches seen.\n"
     ]
    },
    {
     "name": "stderr",
     "output_type": "stream",
     "text": [
      "C:\\Users\\Bhanu prakash\\AppData\\Local\\Temp\\ipykernel_9448\\3598378733.py:122: UserWarning: `Model.fit_generator` is deprecated and will be removed in a future version. Please use `Model.fit`, which supports generators.\n",
      "  history=model.fit_generator(train_generator, steps_per_epoch=steps_per_epoch, epochs=self.num_epochs, verbose=1,\n"
     ]
    },
    {
     "name": "stdout",
     "output_type": "stream",
     "text": [
      "Epoch 1/25\n",
      "133/133 [==============================] - ETA: 0s - loss: 1.8020 - categorical_accuracy: 0.2202\n",
      "Epoch 1: val_loss improved from inf to 1.53926, saving model to model_init_2022-07-1010_04_03.887073\\model-00001-1.80205-0.22021-1.53926-0.34000.h5\n",
      "133/133 [==============================] - 260s 2s/step - loss: 1.8020 - categorical_accuracy: 0.2202 - val_loss: 1.5393 - val_categorical_accuracy: 0.3400 - lr: 2.0000e-04\n",
      "Epoch 2/25\n",
      "133/133 [==============================] - ETA: 0s - loss: 1.5528 - categorical_accuracy: 0.3122\n",
      "Epoch 2: val_loss improved from 1.53926 to 1.50659, saving model to model_init_2022-07-1010_04_03.887073\\model-00002-1.55282-0.31222-1.50659-0.39000.h5\n",
      "133/133 [==============================] - 201s 2s/step - loss: 1.5528 - categorical_accuracy: 0.3122 - val_loss: 1.5066 - val_categorical_accuracy: 0.3900 - lr: 2.0000e-04\n",
      "Epoch 3/25\n",
      "133/133 [==============================] - ETA: 0s - loss: 1.1692 - categorical_accuracy: 0.5279\n",
      "Epoch 3: val_loss improved from 1.50659 to 0.91311, saving model to model_init_2022-07-1010_04_03.887073\\model-00003-1.16925-0.52790-0.91311-0.66000.h5\n",
      "133/133 [==============================] - 202s 2s/step - loss: 1.1692 - categorical_accuracy: 0.5279 - val_loss: 0.9131 - val_categorical_accuracy: 0.6600 - lr: 2.0000e-04\n",
      "Epoch 4/25\n",
      "133/133 [==============================] - ETA: 0s - loss: 0.7056 - categorical_accuracy: 0.7640\n",
      "Epoch 4: val_loss improved from 0.91311 to 0.50464, saving model to model_init_2022-07-1010_04_03.887073\\model-00004-0.70565-0.76395-0.50464-0.84000.h5\n",
      "133/133 [==============================] - 203s 2s/step - loss: 0.7056 - categorical_accuracy: 0.7640 - val_loss: 0.5046 - val_categorical_accuracy: 0.8400 - lr: 2.0000e-04\n",
      "Epoch 5/25\n",
      "133/133 [==============================] - ETA: 0s - loss: 0.3867 - categorical_accuracy: 0.8808\n",
      "Epoch 5: val_loss improved from 0.50464 to 0.42352, saving model to model_init_2022-07-1010_04_03.887073\\model-00005-0.38674-0.88084-0.42352-0.87000.h5\n",
      "133/133 [==============================] - 201s 2s/step - loss: 0.3867 - categorical_accuracy: 0.8808 - val_loss: 0.4235 - val_categorical_accuracy: 0.8700 - lr: 2.0000e-04\n",
      "Epoch 6/25\n",
      "133/133 [==============================] - ETA: 0s - loss: 0.3463 - categorical_accuracy: 0.9057\n",
      "Epoch 6: val_loss improved from 0.42352 to 0.27227, saving model to model_init_2022-07-1010_04_03.887073\\model-00006-0.34632-0.90573-0.27227-0.88000.h5\n",
      "133/133 [==============================] - 201s 2s/step - loss: 0.3463 - categorical_accuracy: 0.9057 - val_loss: 0.2723 - val_categorical_accuracy: 0.8800 - lr: 2.0000e-04\n",
      "Epoch 7/25\n",
      "133/133 [==============================] - ETA: 0s - loss: 0.2459 - categorical_accuracy: 0.9321\n",
      "Epoch 7: val_loss did not improve from 0.27227\n",
      "133/133 [==============================] - 201s 2s/step - loss: 0.2459 - categorical_accuracy: 0.9321 - val_loss: 0.2752 - val_categorical_accuracy: 0.9300 - lr: 2.0000e-04\n",
      "Epoch 8/25\n",
      "133/133 [==============================] - ETA: 0s - loss: 0.2398 - categorical_accuracy: 0.9314\n",
      "Epoch 8: val_loss did not improve from 0.27227\n",
      "133/133 [==============================] - 201s 2s/step - loss: 0.2398 - categorical_accuracy: 0.9314 - val_loss: 0.2924 - val_categorical_accuracy: 0.9100 - lr: 2.0000e-04\n",
      "Epoch 9/25\n",
      "133/133 [==============================] - ETA: 0s - loss: 0.2325 - categorical_accuracy: 0.9397\n",
      "Epoch 9: val_loss improved from 0.27227 to 0.25299, saving model to model_init_2022-07-1010_04_03.887073\\model-00009-0.23251-0.93967-0.25299-0.89000.h5\n",
      "133/133 [==============================] - 203s 2s/step - loss: 0.2325 - categorical_accuracy: 0.9397 - val_loss: 0.2530 - val_categorical_accuracy: 0.8900 - lr: 2.0000e-04\n",
      "Epoch 10/25\n",
      "133/133 [==============================] - ETA: 0s - loss: 0.1928 - categorical_accuracy: 0.9472\n",
      "Epoch 10: val_loss did not improve from 0.25299\n",
      "133/133 [==============================] - 203s 2s/step - loss: 0.1928 - categorical_accuracy: 0.9472 - val_loss: 0.4494 - val_categorical_accuracy: 0.9100 - lr: 2.0000e-04\n",
      "Epoch 11/25\n",
      "133/133 [==============================] - ETA: 0s - loss: 0.1733 - categorical_accuracy: 0.9593\n",
      "Epoch 11: val_loss improved from 0.25299 to 0.24338, saving model to model_init_2022-07-1010_04_03.887073\\model-00011-0.17327-0.95928-0.24338-0.96000.h5\n",
      "133/133 [==============================] - 205s 2s/step - loss: 0.1733 - categorical_accuracy: 0.9593 - val_loss: 0.2434 - val_categorical_accuracy: 0.9600 - lr: 2.0000e-04\n",
      "Epoch 12/25\n",
      "133/133 [==============================] - ETA: 0s - loss: 0.1415 - categorical_accuracy: 0.9623\n",
      "Epoch 12: val_loss did not improve from 0.24338\n",
      "133/133 [==============================] - 201s 2s/step - loss: 0.1415 - categorical_accuracy: 0.9623 - val_loss: 0.4505 - val_categorical_accuracy: 0.9000 - lr: 2.0000e-04\n",
      "Epoch 13/25\n",
      "133/133 [==============================] - ETA: 0s - loss: 0.1684 - categorical_accuracy: 0.9578\n",
      "Epoch 13: val_loss did not improve from 0.24338\n",
      "133/133 [==============================] - 207s 2s/step - loss: 0.1684 - categorical_accuracy: 0.9578 - val_loss: 0.6635 - val_categorical_accuracy: 0.7700 - lr: 2.0000e-04\n",
      "Epoch 14/25\n",
      "133/133 [==============================] - ETA: 0s - loss: 0.1992 - categorical_accuracy: 0.9563\n",
      "Epoch 14: val_loss did not improve from 0.24338\n",
      "133/133 [==============================] - 204s 2s/step - loss: 0.1992 - categorical_accuracy: 0.9563 - val_loss: 0.5517 - val_categorical_accuracy: 0.8500 - lr: 2.0000e-04\n",
      "Epoch 15/25\n",
      "133/133 [==============================] - ETA: 0s - loss: 0.1841 - categorical_accuracy: 0.9502\n",
      "Epoch 15: val_loss did not improve from 0.24338\n",
      "\n",
      "Epoch 15: ReduceLROnPlateau reducing learning rate to 3.9999998989515007e-05.\n",
      "133/133 [==============================] - 204s 2s/step - loss: 0.1841 - categorical_accuracy: 0.9502 - val_loss: 0.3234 - val_categorical_accuracy: 0.9400 - lr: 2.0000e-04\n",
      "Epoch 16/25\n",
      "133/133 [==============================] - ETA: 0s - loss: 0.1001 - categorical_accuracy: 0.9744\n",
      "Epoch 16: val_loss did not improve from 0.24338\n",
      "133/133 [==============================] - 203s 2s/step - loss: 0.1001 - categorical_accuracy: 0.9744 - val_loss: 0.4201 - val_categorical_accuracy: 0.9200 - lr: 4.0000e-05\n",
      "Epoch 17/25\n",
      "133/133 [==============================] - ETA: 0s - loss: 0.0696 - categorical_accuracy: 0.9819\n",
      "Epoch 17: val_loss did not improve from 0.24338\n",
      "133/133 [==============================] - 202s 2s/step - loss: 0.0696 - categorical_accuracy: 0.9819 - val_loss: 0.3473 - val_categorical_accuracy: 0.9300 - lr: 4.0000e-05\n",
      "Epoch 18/25\n",
      "133/133 [==============================] - ETA: 0s - loss: 0.0411 - categorical_accuracy: 0.9887\n",
      "Epoch 18: val_loss did not improve from 0.24338\n",
      "133/133 [==============================] - 203s 2s/step - loss: 0.0411 - categorical_accuracy: 0.9887 - val_loss: 0.3883 - val_categorical_accuracy: 0.9200 - lr: 4.0000e-05\n",
      "Epoch 19/25\n",
      "133/133 [==============================] - ETA: 0s - loss: 0.0510 - categorical_accuracy: 0.9879\n",
      "Epoch 19: val_loss did not improve from 0.24338\n",
      "\n",
      "Epoch 19: ReduceLROnPlateau reducing learning rate to 7.999999797903002e-06.\n",
      "133/133 [==============================] - 202s 2s/step - loss: 0.0510 - categorical_accuracy: 0.9879 - val_loss: 0.3747 - val_categorical_accuracy: 0.9500 - lr: 4.0000e-05\n",
      "Epoch 20/25\n",
      "133/133 [==============================] - ETA: 0s - loss: 0.0281 - categorical_accuracy: 0.9947\n",
      "Epoch 20: val_loss did not improve from 0.24338\n",
      "133/133 [==============================] - 206s 2s/step - loss: 0.0281 - categorical_accuracy: 0.9947 - val_loss: 0.3302 - val_categorical_accuracy: 0.9600 - lr: 8.0000e-06\n",
      "Epoch 21/25\n",
      "133/133 [==============================] - ETA: 0s - loss: 0.0247 - categorical_accuracy: 0.9955\n",
      "Epoch 21: val_loss did not improve from 0.24338\n",
      "133/133 [==============================] - 207s 2s/step - loss: 0.0247 - categorical_accuracy: 0.9955 - val_loss: 0.3683 - val_categorical_accuracy: 0.9400 - lr: 8.0000e-06\n",
      "Epoch 21: early stopping\n"
     ]
    }
   ],
   "source": [
    "history5=tl_2.train_model(tl_2_rnn_model,augment_data=True)"
   ]
  },
  {
   "cell_type": "code",
   "execution_count": 47,
   "metadata": {},
   "outputs": [
    {
     "data": {
      "text/plain": [
       "<matplotlib.legend.Legend at 0x12b44736500>"
      ]
     },
     "execution_count": 47,
     "metadata": {},
     "output_type": "execute_result"
    },
    {
     "data": {
      "image/png": "[encoded data removed]",
      "text/plain": [
       "<Figure size 720x360 with 2 Axes>"
      ]
     },
     "metadata": {
      "needs_background": "light"
     },
     "output_type": "display_data"
    }
   ],
   "source": [
    "fig, axes = plt.subplots(nrows=1, ncols=2, figsize=(10,5))\n",
    "axes[0].plot(history5.history['loss'])   \n",
    "axes[0].plot(history5.history['val_loss'])\n",
    "axes[0].grid()\n",
    "axes[0].legend(['loss','val_loss'])\n",
    "axes[1].plot(history5.history['categorical_accuracy'])   \n",
    "axes[1].plot(history5.history['val_categorical_accuracy'])\n",
    "axes[1].grid()\n",
    "axes[1].legend(['categorical_accuracy','val_categorical_accuracy'])"
   ]
  },
  {
   "cell_type": "markdown",
   "metadata": {},
   "source": [
    "<b>Observation:</b> With the addition of new dense layer the validation accuracy got highest compared to all other models. This model achieved validation accuracy of <b>0.96</b> with train accuracy of <b>0.96</b> at 11th epoch"
   ]
  },
  {
   "cell_type": "markdown",
   "metadata": {},
   "source": [
    "# Model Summaries"
   ]
  },
  {
   "cell_type": "code",
   "execution_count": 51,
   "metadata": {},
   "outputs": [],
   "source": [
    "import pandas as pd\n",
    "df=pd.DataFrame({\"Experiment No\":[1,2,3,4,5],\"Model\":[\"Conv3D\",\"Conv3D\",\"CNN_RNN\",\"CNN_RNN_TR\",\"CNN_RNN_TR\"],\"Train Accuracy\":[0.95,0.92,0.85,0.95,0.96],\"Validation Accuracy\":[0.36,0.93,0.88,0.93,0.96],\"Observation\":[\"No image augmentation,Overfitting\",\"Used image Augment,reduced batch,increased dense neurons & dropout rate\",\"Used GRU with CNN\",\"Used InceptionV3 ,reduced batch & increased epoch rate\",\"Added new Dense layer with similar configuration to model4\"]})"
   ]
  },
  {
   "cell_type": "code",
   "execution_count": 52,
   "metadata": {},
   "outputs": [
    {
     "data": {
      "text/html": [
       "<style type=\"text/css\">\n",
       "#T_08a31_row0_col4, #T_08a31_row1_col4, #T_08a31_row2_col4, #T_08a31_row3_col4, #T_08a31_row4_col4 {\n",
       "  width: 300px;\n",
       "}\n",
       "</style>\n",
       "<table id=\"T_08a31\">\n",
       "  <thead>\n",
       "    <tr>\n",
       "      <th class=\"blank level0\" >&nbsp;</th>\n",
       "      <th id=\"T_08a31_level0_col0\" class=\"col_heading level0 col0\" >Experiment No</th>\n",
       "      <th id=\"T_08a31_level0_col1\" class=\"col_heading level0 col1\" >Model</th>\n",
       "      <th id=\"T_08a31_level0_col2\" class=\"col_heading level0 col2\" >Train Accuracy</th>\n",
       "      <th id=\"T_08a31_level0_col3\" class=\"col_heading level0 col3\" >Validation Accuracy</th>\n",
       "      <th id=\"T_08a31_level0_col4\" class=\"col_heading level0 col4\" >Observation</th>\n",
       "    </tr>\n",
       "  </thead>\n",
       "  <tbody>\n",
       "    <tr>\n",
       "      <th id=\"T_08a31_level0_row0\" class=\"row_heading level0 row0\" >0</th>\n",
       "      <td id=\"T_08a31_row0_col0\" class=\"data row0 col0\" >1</td>\n",
       "      <td id=\"T_08a31_row0_col1\" class=\"data row0 col1\" >Conv3D</td>\n",
       "      <td id=\"T_08a31_row0_col2\" class=\"data row0 col2\" >0.950000</td>\n",
       "      <td id=\"T_08a31_row0_col3\" class=\"data row0 col3\" >0.360000</td>\n",
       "      <td id=\"T_08a31_row0_col4\" class=\"data row0 col4\" >No image augmentation,Overfitting</td>\n",
       "    </tr>\n",
       "    <tr>\n",
       "      <th id=\"T_08a31_level0_row1\" class=\"row_heading level0 row1\" >1</th>\n",
       "      <td id=\"T_08a31_row1_col0\" class=\"data row1 col0\" >2</td>\n",
       "      <td id=\"T_08a31_row1_col1\" class=\"data row1 col1\" >Conv3D</td>\n",
       "      <td id=\"T_08a31_row1_col2\" class=\"data row1 col2\" >0.920000</td>\n",
       "      <td id=\"T_08a31_row1_col3\" class=\"data row1 col3\" >0.930000</td>\n",
       "      <td id=\"T_08a31_row1_col4\" class=\"data row1 col4\" >Used image Augment,reduced batch,increased dense neurons & dropout rate</td>\n",
       "    </tr>\n",
       "    <tr>\n",
       "      <th id=\"T_08a31_level0_row2\" class=\"row_heading level0 row2\" >2</th>\n",
       "      <td id=\"T_08a31_row2_col0\" class=\"data row2 col0\" >3</td>\n",
       "      <td id=\"T_08a31_row2_col1\" class=\"data row2 col1\" >CNN_RNN</td>\n",
       "      <td id=\"T_08a31_row2_col2\" class=\"data row2 col2\" >0.850000</td>\n",
       "      <td id=\"T_08a31_row2_col3\" class=\"data row2 col3\" >0.880000</td>\n",
       "      <td id=\"T_08a31_row2_col4\" class=\"data row2 col4\" >Used GRU with CNN</td>\n",
       "    </tr>\n",
       "    <tr>\n",
       "      <th id=\"T_08a31_level0_row3\" class=\"row_heading level0 row3\" >3</th>\n",
       "      <td id=\"T_08a31_row3_col0\" class=\"data row3 col0\" >4</td>\n",
       "      <td id=\"T_08a31_row3_col1\" class=\"data row3 col1\" >CNN_RNN_TR</td>\n",
       "      <td id=\"T_08a31_row3_col2\" class=\"data row3 col2\" >0.950000</td>\n",
       "      <td id=\"T_08a31_row3_col3\" class=\"data row3 col3\" >0.930000</td>\n",
       "      <td id=\"T_08a31_row3_col4\" class=\"data row3 col4\" >Used InceptionV3 ,reduced batch & increased epoch rate</td>\n",
       "    </tr>\n",
       "    <tr>\n",
       "      <th id=\"T_08a31_level0_row4\" class=\"row_heading level0 row4\" >4</th>\n",
       "      <td id=\"T_08a31_row4_col0\" class=\"data row4 col0\" >5</td>\n",
       "      <td id=\"T_08a31_row4_col1\" class=\"data row4 col1\" >CNN_RNN_TR</td>\n",
       "      <td id=\"T_08a31_row4_col2\" class=\"data row4 col2\" >0.960000</td>\n",
       "      <td id=\"T_08a31_row4_col3\" class=\"data row4 col3\" >0.960000</td>\n",
       "      <td id=\"T_08a31_row4_col4\" class=\"data row4 col4\" >Added new Dense layer with similar configuration to model4</td>\n",
       "    </tr>\n",
       "  </tbody>\n",
       "</table>\n"
      ],
      "text/plain": [
       "<pandas.io.formats.style.Styler at 0x12b448155a0>"
      ]
     },
     "execution_count": 52,
     "metadata": {},
     "output_type": "execute_result"
    }
   ],
   "source": [
    "df.style.set_properties(subset=['Observation'], **{'width': '300px'})"
   ]
  },
  {
   "cell_type": "markdown",
   "metadata": {},
   "source": [
    "# Load & test final model"
   ]
  },
  {
   "cell_type": "code",
   "execution_count": 61,
   "metadata": {},
   "outputs": [
    {
     "name": "stdout",
     "output_type": "stream",
     "text": [
      "[[0. 0. 0. 1. 0.]\n",
      " [0. 0. 0. 1. 0.]\n",
      " [0. 1. 0. 0. 0.]\n",
      " [0. 0. 0. 0. 1.]\n",
      " [0. 0. 0. 1. 0.]\n",
      " [0. 0. 0. 1. 0.]\n",
      " [0. 0. 0. 1. 0.]\n",
      " [0. 1. 0. 0. 0.]\n",
      " [0. 0. 0. 0. 1.]\n",
      " [0. 0. 0. 1. 0.]]\n",
      "WARNING:tensorflow:6 out of the last 7 calls to <function Model.make_predict_function.<locals>.predict_function at 0x0000012B44E40940> triggered tf.function retracing. Tracing is expensive and the excessive number of tracings could be due to (1) creating @tf.function repeatedly in a loop, (2) passing tensors with different shapes, (3) passing Python objects instead of tensors. For (1), please define your @tf.function outside of the loop. For (2), @tf.function has reduce_retracing=True option that can avoid unnecessary retracing. For (3), please refer to https://www.tensorflow.org/guide/function#controlling_retracing and https://www.tensorflow.org/api_docs/python/tf/function for  more details.\n",
      "1/1 [==============================] - 2s 2s/step\n",
      "[3 3 1 4 3 3 3 1 4 3]\n"
     ]
    }
   ],
   "source": [
    "from keras.models import load_model\n",
    "# Load the final best model\n",
    "final_model= load_model(\"model_init_2022-07-1010_04_03.887073\\model-00011-0.17327-0.95928-0.24338-0.96000.h5\")\n",
    "# Create test generator\n",
    "test_generator=Transfer_InceptionModel_2()\n",
    "test_generator.set_path(project_folder)\n",
    "test_generator.set_image_properties(image_height=128,image_width=128)\n",
    "test_generator.set_hyperparams(frames_to_sample=30,batch_size=5,num_epochs=25)\n",
    "\n",
    "g=test_generator.generator(test_generator.val_path,test_generator.val_doc,augment=True)\n",
    "batch_data, batch_labels=next(g)\n",
    "print(batch_labels)\n",
    "print(np.argmax(final_model.predict(batch_data[:,:,:,:,:]),axis=1))"
   ]
  },
  {
   "cell_type": "code",
   "execution_count": null,
   "metadata": {},
   "outputs": [],
   "source": []
  }
 ],
 "metadata": {
  "kernelspec": {
   "display_name": "Python 3 (ipykernel)",
   "language": "python",
   "name": "python3"
  },
  "language_info": {
   "codemirror_mode": {
    "name": "ipython",
    "version": 3
   },
   "file_extension": ".py",
   "mimetype": "text/x-python",
   "name": "python",
   "nbconvert_exporter": "python",
   "pygments_lexer": "ipython3",
   "version": "3.10.4"
  }
 },
 "nbformat": 4,
 "nbformat_minor": 2
}
